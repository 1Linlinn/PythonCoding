{
 "cells": [
  {
   "cell_type": "markdown",
   "metadata": {},
   "source": [
    "$$pyEcharts快速入门$$"
   ]
  },
  {
   "cell_type": "markdown",
   "metadata": {},
   "source": [
    "### 查看版本信息"
   ]
  },
  {
   "cell_type": "code",
   "execution_count": null,
   "metadata": {},
   "outputs": [],
   "source": [
    "import pyecharts  \n",
    "print(pyecharts.__version__)"
   ]
  },
  {
   "cell_type": "markdown",
   "metadata": {},
   "source": [
    "### 命令行展示详细信息"
   ]
  },
  {
   "cell_type": "code",
   "execution_count": null,
   "metadata": {
    "vscode": {
     "languageId": "powershell"
    }
   },
   "outputs": [],
   "source": [
    "pip show pyecharts"
   ]
  },
  {
   "cell_type": "markdown",
   "metadata": {},
   "source": [
    "### 快速上手pyEcharts"
   ]
  },
  {
   "cell_type": "markdown",
   "metadata": {},
   "source": [
    "#### 绘制第一个图表"
   ]
  },
  {
   "cell_type": "code",
   "execution_count": 15,
   "metadata": {},
   "outputs": [
    {
     "data": {
      "text/plain": [
       "'d:\\\\VS Code\\\\Python_Project\\\\python编程基础\\\\17_数据挖掘\\\\pyecharts\\\\bar.html'"
      ]
     },
     "execution_count": 15,
     "metadata": {},
     "output_type": "execute_result"
    }
   ],
   "source": [
    "from pyecharts.charts import Bar # type: ignore\n",
    "\n",
    "bar = Bar()\n",
    "bar.set_global_opts(title_opts={\"text\": \"我的第一个图表\", \"subtext\": \"这里是副标题\"})\n",
    "bar.add_xaxis(['衬衣', \"羊毛衫\", \"西服\"])\n",
    "bar.add_yaxis(\"商家\",[20, 5, 49])\n",
    "# 渲染为html文件\n",
    "# bar.render()\n",
    "bar.render(\"bar.html\") # 自定义名称"
   ]
  },
  {
   "cell_type": "code",
   "execution_count": null,
   "metadata": {},
   "outputs": [],
   "source": [
    "# 在notebook中显示\n",
    "bar.render_notebook()"
   ]
  },
  {
   "cell_type": "markdown",
   "metadata": {},
   "source": [
    "#### pyecharts均支持链式调用"
   ]
  },
  {
   "cell_type": "code",
   "execution_count": null,
   "metadata": {},
   "outputs": [],
   "source": [
    "bar = (\n",
    "    Bar()\n",
    "    .add_xaxis(['衬衣', \"羊毛衫\", \"西服\", \"短裤\"])\n",
    "    .add_yaxis(\"商家\",[20, 5, 49, 30])\n",
    ")\n",
    "bar.render_notebook()"
   ]
  },
  {
   "cell_type": "markdown",
   "metadata": {},
   "source": [
    "#### 使用options配置项"
   ]
  },
  {
   "cell_type": "markdown",
   "metadata": {},
   "source": [
    "##### 在pyecharts中一切皆配置"
   ]
  },
  {
   "cell_type": "code",
   "execution_count": null,
   "metadata": {},
   "outputs": [],
   "source": [
    "from pyecharts import options\n",
    "bar = (\n",
    "    Bar()\n",
    "    .add_xaxis(['衬衣', \"羊毛衫\", \"西服\", \"短裤\"])\n",
    "    .add_yaxis(\"商家\",[20, 5, 49, 30])\n",
    "    .set_global_opts(title_opts={\"text\": \"我的第一个图表\", \"subtext\": \"这里是副标题\"})\n",
    ")\n",
    "\n",
    "bar.render_notebook()"
   ]
  },
  {
   "cell_type": "markdown",
   "metadata": {},
   "source": [
    "##### 渲染为图片文件"
   ]
  },
  {
   "cell_type": "code",
   "execution_count": null,
   "metadata": {},
   "outputs": [],
   "source": [
    "from pyecharts.render import make_snapshot\n",
    "from snapshot_selenium import snapshot\n",
    "from pyecharts import options\n",
    "bar = (\n",
    "    Bar()\n",
    "    .add_xaxis(['衬衣', \"羊毛衫\", \"西服\", \"短裤\"])\n",
    "    .add_yaxis(\"商家\",[20, 5, 49, 30])\n",
    "    .set_global_opts(title_opts={\"text\": \"我的第一个图表\", \"subtext\": \"这里是副标题\"})\n",
    ")\n",
    "\n",
    "make_snapshot(snapshot, bar.render(), \"bar.png\")"
   ]
  },
  {
   "cell_type": "markdown",
   "metadata": {},
   "source": [
    "##### 使用主题"
   ]
  },
  {
   "cell_type": "code",
   "execution_count": null,
   "metadata": {},
   "outputs": [],
   "source": [
    "from pyecharts import options as opts\n",
    "from pyecharts.globals import ThemeType # 导入主题包\n",
    "bar = (\n",
    "    Bar(\n",
    "        init_opts = opts.InitOpts(theme=ThemeType.DARK)\n",
    "    )\n",
    "    .add_xaxis(['衬衣', \"羊毛衫\", \"西服\", \"短裤\"])\n",
    "    .add_yaxis(\"商家A\",[10, 52, 29, 30])\n",
    "    .add_yaxis(\"商家B\",[20, 5, 49, 30])\n",
    "    .set_global_opts(title_opts={\"text\": \"我的第一个图表\", \"subtext\": \"这里是副标题\"})\n",
    ")\n",
    "\n",
    "bar.render_notebook()"
   ]
  }
 ],
 "metadata": {
  "kernelspec": {
   "display_name": "myenv",
   "language": "python",
   "name": "python3"
  },
  "language_info": {
   "codemirror_mode": {
    "name": "ipython",
    "version": 3
   },
   "file_extension": ".py",
   "mimetype": "text/x-python",
   "name": "python",
   "nbconvert_exporter": "python",
   "pygments_lexer": "ipython3",
   "version": "3.10.9"
  }
 },
 "nbformat": 4,
 "nbformat_minor": 2
}
