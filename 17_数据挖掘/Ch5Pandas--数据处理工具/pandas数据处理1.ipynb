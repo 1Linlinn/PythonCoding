{
 "cells": [
  {
   "cell_type": "markdown",
   "metadata": {},
   "source": [
    "$$Pandas数据处理$$"
   ]
  },
  {
   "cell_type": "markdown",
   "metadata": {},
   "source": [
    "## Series"
   ]
  },
  {
   "cell_type": "markdown",
   "metadata": {},
   "source": [
    "### 创建series"
   ]
  },
  {
   "cell_type": "code",
   "execution_count": null,
   "metadata": {},
   "outputs": [
    {
     "name": "stdout",
     "output_type": "stream",
     "text": [
      "创建的Series为：\n",
      "a    0\n",
      "b    3\n",
      "c    2\n",
      "d    1\n",
      "Name: list, dtype: int64\n"
     ]
    }
   ],
   "source": [
    "# 通过列表\n",
    "import pandas as pd\n",
    "lst = [0, 3, 2, 1]\n",
    "idx = ['a', 'b', 'c', 'd']\n",
    "print('创建的Series为：')\n",
    "df1 = pd.Series(data=lst, index=idx, name='list')\n",
    "print(df1)"
   ]
  },
  {
   "cell_type": "code",
   "execution_count": null,
   "metadata": {},
   "outputs": [
    {
     "name": "stdout",
     "output_type": "stream",
     "text": [
      "创建的Series为：\n",
      "a    0.0\n",
      "b    6.0\n",
      "c    8.0\n",
      "e    NaN\n",
      "Name: list, dtype: float64\n"
     ]
    }
   ],
   "source": [
    "# 通过字典\n",
    "import pandas as pd\n",
    "dict = {'a': 0, 'b': 6, 'c':8}\n",
    "letter = ['a', 'b', 'c', 'e']\n",
    "print('创建的Series为:')\n",
    "df2 = pd.Series(dict, letter, name='list')\n",
    "print(df2)"
   ]
  },
  {
   "cell_type": "markdown",
   "metadata": {},
   "source": [
    "### 属性"
   ]
  },
  {
   "cell_type": "code",
   "execution_count": null,
   "metadata": {},
   "outputs": [
    {
     "data": {
      "text/plain": [
       "array([0, 3, 2, 1], dtype=int64)"
      ]
     },
     "execution_count": 8,
     "metadata": {},
     "output_type": "execute_result"
    }
   ],
   "source": [
    "df1.values # ndarry格式返回所有元素"
   ]
  },
  {
   "cell_type": "code",
   "execution_count": null,
   "metadata": {},
   "outputs": [
    {
     "data": {
      "text/plain": [
       "(4,)"
      ]
     },
     "execution_count": 11,
     "metadata": {},
     "output_type": "execute_result"
    }
   ],
   "source": [
    "df1.shape # 返回形状"
   ]
  },
  {
   "cell_type": "code",
   "execution_count": null,
   "metadata": {},
   "outputs": [
    {
     "data": {
      "text/plain": [
       "1"
      ]
     },
     "execution_count": 12,
     "metadata": {},
     "output_type": "execute_result"
    }
   ],
   "source": [
    "df1.ndim # 返回维度"
   ]
  },
  {
   "cell_type": "code",
   "execution_count": null,
   "metadata": {},
   "outputs": [
    {
     "data": {
      "text/plain": [
       "4"
      ]
     },
     "execution_count": 13,
     "metadata": {},
     "output_type": "execute_result"
    }
   ],
   "source": [
    "df1.size # 返回对象个数"
   ]
  },
  {
   "cell_type": "code",
   "execution_count": 15,
   "metadata": {},
   "outputs": [
    {
     "data": {
      "text/plain": [
       "(4,)"
      ]
     },
     "execution_count": 15,
     "metadata": {},
     "output_type": "execute_result"
    }
   ],
   "source": [
    "df1.T.shape"
   ]
  },
  {
   "cell_type": "markdown",
   "metadata": {},
   "source": [
    "### 操作"
   ]
  },
  {
   "cell_type": "code",
   "execution_count": 16,
   "metadata": {},
   "outputs": [
    {
     "name": "stdout",
     "output_type": "stream",
     "text": [
      "a    0\n",
      "b    3\n",
      "c    2\n",
      "d    1\n",
      "Name: list, dtype: int64\n",
      "a    100\n",
      "b      3\n",
      "c      2\n",
      "d      1\n",
      "Name: list, dtype: int64\n"
     ]
    },
    {
     "name": "stderr",
     "output_type": "stream",
     "text": [
      "C:\\Users\\林肖阳\\AppData\\Local\\Temp\\ipykernel_30324\\3023596547.py:3: FutureWarning: Series.__setitem__ treating keys as positions is deprecated. In a future version, integer keys will always be treated as labels (consistent with DataFrame behavior). To set a value by position, use `ser.iloc[pos] = value`\n",
      "  df1[0]=100\n"
     ]
    }
   ],
   "source": [
    "# 更新\n",
    "print(df1)\n",
    "df1[0]=100\n",
    "print(df1)"
   ]
  },
  {
   "cell_type": "code",
   "execution_count": 18,
   "metadata": {},
   "outputs": [
    {
     "name": "stdout",
     "output_type": "stream",
     "text": [
      "a    100.0\n",
      "b      3.0\n",
      "c      2.0\n",
      "d      1.0\n",
      "a      0.0\n",
      "b      6.0\n",
      "c      8.0\n",
      "e      NaN\n",
      "Name: list, dtype: float64\n"
     ]
    }
   ],
   "source": [
    "# 追加\n",
    "df3 = pd.concat([df1, df2])\n",
    "print(df3)"
   ]
  },
  {
   "cell_type": "code",
   "execution_count": 22,
   "metadata": {},
   "outputs": [
    {
     "data": {
      "text/plain": [
       "a    100.0\n",
       "b      3.0\n",
       "c      2.0\n",
       "d      1.0\n",
       "a      0.0\n",
       "b      6.0\n",
       "c      8.0\n",
       "Name: list, dtype: float64"
      ]
     },
     "execution_count": 22,
     "metadata": {},
     "output_type": "execute_result"
    }
   ],
   "source": [
    "# 删除\n",
    "if 'e' in df3.index:\n",
    "\tdf3.drop('e', inplace=True)\n",
    "df3"
   ]
  },
  {
   "cell_type": "markdown",
   "metadata": {},
   "source": [
    "## Dataframe"
   ]
  },
  {
   "cell_type": "code",
   "execution_count": 35,
   "metadata": {},
   "outputs": [
    {
     "name": "stdout",
     "output_type": "stream",
     "text": [
      "       姓名    年龄  城市\n",
      "index              \n",
      "0      张三  25.0  北京\n",
      "1      李四  30.0  上海\n",
      "3      赵六  28.0  深圳\n"
     ]
    }
   ],
   "source": [
    "import pandas as pd  \n",
    "import numpy as np  \n",
    "\n",
    "# 创建一个包含缺失值的字典  \n",
    "data = {  \n",
    "    '姓名': ['张三', '李四', '王五', '赵六'],  \n",
    "    '年龄': [25, 30, None, 28],  # 使用 None 表示缺失值  \n",
    "    '城市': ['北京', '上海', '广州', '深圳']  \n",
    "}  \n",
    "\n",
    "# 创建 DataFrame  \n",
    "df = pd.DataFrame(data)  \n",
    "\n",
    "# 设置索引名称  \n",
    "df.index.name = 'index'  \n",
    "# df.fillna(value={'年龄': df['年龄'].mean()}, inplace=True)\n",
    "df.dropna(how='any', inplace=True)\n",
    "\n",
    "print(df)"
   ]
  },
  {
   "cell_type": "code",
   "execution_count": 36,
   "metadata": {},
   "outputs": [
    {
     "name": "stdout",
     "output_type": "stream",
     "text": [
      "DataFrame 已保存为 employees.csv\n"
     ]
    }
   ],
   "source": [
    "import pandas as pd\n",
    "\n",
    "# 创建一个简单的 DataFrame\n",
    "data = {\n",
    "    'Name': ['Alice', 'Bob', 'Charlie', 'David', 'Eve'],\n",
    "    'Age': [25, 30, 35, 40, 45],\n",
    "    'City': ['New York', 'Los Angeles', 'Chicago', 'Houston', 'Phoenix'],\n",
    "    'Salary': [50000, 60000, 70000, 80000, 90000]\n",
    "}\n",
    "\n",
    "# 创建 DataFrame\n",
    "df = pd.DataFrame(data)\n",
    "\n",
    "# 保存为 CSV 文件\n",
    "df.to_csv('employees.csv', index=False)\n",
    "\n",
    "print(\"DataFrame 已保存为 employees.csv\")"
   ]
  },
  {
   "cell_type": "code",
   "execution_count": 37,
   "metadata": {},
   "outputs": [
    {
     "name": "stdout",
     "output_type": "stream",
     "text": [
      "读取的 DataFrame：\n",
      "      Name  Age         City  Salary\n",
      "0    Alice   25     New York   50000\n",
      "1      Bob   30  Los Angeles   60000\n",
      "2  Charlie   35      Chicago   70000\n",
      "3    David   40      Houston   80000\n",
      "4      Eve   45      Phoenix   90000\n"
     ]
    }
   ],
   "source": [
    "# 读取 CSV 文件\n",
    "df = pd.read_csv('employees.csv')\n",
    "\n",
    "print(\"读取的 DataFrame：\")\n",
    "print(df)"
   ]
  },
  {
   "cell_type": "code",
   "execution_count": null,
   "metadata": {},
   "outputs": [
    {
     "name": "stdout",
     "output_type": "stream",
     "text": [
      "\n",
      "查看前几行数据：\n",
      "      Name  Age         City  Salary\n",
      "0    Alice   25     New York   50000\n",
      "1      Bob   30  Los Angeles   60000\n",
      "2  Charlie   35      Chicago   70000\n",
      "3    David   40      Houston   80000\n",
      "4      Eve   45      Phoenix   90000\n",
      "\n",
      "查看后几行数据：\n",
      "      Name  Age         City  Salary\n",
      "0    Alice   25     New York   50000\n",
      "1      Bob   30  Los Angeles   60000\n",
      "2  Charlie   35      Chicago   70000\n",
      "3    David   40      Houston   80000\n",
      "4      Eve   45      Phoenix   90000\n",
      "\n",
      "查看数据的简要信息：\n",
      "<class 'pandas.core.frame.DataFrame'>\n",
      "RangeIndex: 5 entries, 0 to 4\n",
      "Data columns (total 4 columns):\n",
      " #   Column  Non-Null Count  Dtype \n",
      "---  ------  --------------  ----- \n",
      " 0   Name    5 non-null      object\n",
      " 1   Age     5 non-null      int64 \n",
      " 2   City    5 non-null      object\n",
      " 3   Salary  5 non-null      int64 \n",
      "dtypes: int64(2), object(2)\n",
      "memory usage: 288.0+ bytes\n",
      "None\n",
      "\n",
      "查看数据的统计信息：\n",
      "             Age        Salary\n",
      "count   5.000000      5.000000\n",
      "mean   35.000000  70000.000000\n",
      "std     7.905694  15811.388301\n",
      "min    25.000000  50000.000000\n",
      "25%    30.000000  60000.000000\n",
      "50%    35.000000  70000.000000\n",
      "75%    40.000000  80000.000000\n",
      "max    45.000000  90000.000000\n"
     ]
    }
   ],
   "source": [
    "# 查看前几行数据\n",
    "print(\"\\n查看前几行数据:\")\n",
    "print(df.head())\n",
    "\n",
    "# 查看后几行数据\n",
    "print(\"\\n查看后几行数据:\")\n",
    "print(df.tail())\n",
    "\n",
    "# 查看数据的简要信息\n",
    "print(\"\\n查看数据的简要信息:\")\n",
    "print(df.info())\n",
    "\n",
    "# 查看数据的统计信息\n",
    "print(\"\\n查看数据的统计信息:\")\n",
    "print(df.describe())"
   ]
  },
  {
   "cell_type": "code",
   "execution_count": 39,
   "metadata": {},
   "outputs": [
    {
     "name": "stdout",
     "output_type": "stream",
     "text": [
      "\n",
      "选择单列 'Name'：\n",
      "0      Alice\n",
      "1        Bob\n",
      "2    Charlie\n",
      "3      David\n",
      "4        Eve\n",
      "Name: Name, dtype: object\n",
      "\n",
      "选择多列 ['Name', 'Age']：\n",
      "      Name  Age\n",
      "0    Alice   25\n",
      "1      Bob   30\n",
      "2  Charlie   35\n",
      "3    David   40\n",
      "4      Eve   45\n",
      "\n",
      "按行号选择第 1 行：\n",
      "Name         Alice\n",
      "Age             25\n",
      "City      New York\n",
      "Salary       50000\n",
      "Name: 0, dtype: object\n",
      "\n",
      "按行号选择第 1 行到第 3 行：\n",
      "      Name  Age         City  Salary\n",
      "1      Bob   30  Los Angeles   60000\n",
      "2  Charlie   35      Chicago   70000\n",
      "\n",
      "选择年龄大于 30 的行：\n",
      "      Name  Age     City  Salary\n",
      "2  Charlie   35  Chicago   70000\n",
      "3    David   40  Houston   80000\n",
      "4      Eve   45  Phoenix   90000\n"
     ]
    }
   ],
   "source": [
    "# 按列名选择\n",
    "print(\"\\n选择单列 'Name'：\")\n",
    "print(df['Name'])\n",
    "\n",
    "print(\"\\n选择多列 ['Name', 'Age']：\")\n",
    "print(df[['Name', 'Age']])\n",
    "\n",
    "# 按行号选择\n",
    "print(\"\\n按行号选择第 1 行：\")\n",
    "print(df.iloc[0])\n",
    "\n",
    "print(\"\\n按行号选择第 1 行到第 3 行：\")\n",
    "print(df.iloc[1:3])\n",
    "\n",
    "# 按条件选择\n",
    "print(\"\\n选择年龄大于 30 的行：\")\n",
    "print(df[df['Age'] > 30])"
   ]
  },
  {
   "cell_type": "code",
   "execution_count": 40,
   "metadata": {},
   "outputs": [
    {
     "name": "stdout",
     "output_type": "stream",
     "text": [
      "\n",
      "添加新列 'Bonus'：\n",
      "      Name  Age         City  Salary   Bonus\n",
      "0    Alice   25     New York   50000  5000.0\n",
      "1      Bob   30  Los Angeles   60000  6000.0\n",
      "2  Charlie   35      Chicago   70000  7000.0\n",
      "3    David   40      Houston   80000  8000.0\n",
      "4      Eve   45      Phoenix   90000  9000.0\n"
     ]
    }
   ],
   "source": [
    "# 添加新列\n",
    "df['Bonus'] = df['Salary'] * 0.1\n",
    "print(\"\\n添加新列 'Bonus'：\")\n",
    "print(df)"
   ]
  },
  {
   "cell_type": "code",
   "execution_count": 41,
   "metadata": {},
   "outputs": [
    {
     "name": "stdout",
     "output_type": "stream",
     "text": [
      "\n",
      "删除列 'Bonus'：\n",
      "      Name  Age         City  Salary\n",
      "0    Alice   25     New York   50000\n",
      "1      Bob   30  Los Angeles   60000\n",
      "2  Charlie   35      Chicago   70000\n",
      "3    David   40      Houston   80000\n",
      "4      Eve   45      Phoenix   90000\n"
     ]
    }
   ],
   "source": [
    "# 删除列\n",
    "df = df.drop(columns=['Bonus'])\n",
    "print(\"\\n删除列 'Bonus'：\")\n",
    "print(df)"
   ]
  },
  {
   "cell_type": "code",
   "execution_count": 42,
   "metadata": {},
   "outputs": [
    {
     "name": "stdout",
     "output_type": "stream",
     "text": [
      "\n",
      "修改第 1 行的 'Age' 为 26：\n",
      "      Name  Age         City  Salary\n",
      "0    Alice   26     New York   50000\n",
      "1      Bob   30  Los Angeles   60000\n",
      "2  Charlie   35      Chicago   70000\n",
      "3    David   40      Houston   80000\n",
      "4      Eve   45      Phoenix   90000\n"
     ]
    }
   ],
   "source": [
    "# 修改数据\n",
    "df.loc[0, 'Age'] = 26\n",
    "print(\"\\n修改第 1 行的 'Age' 为 26：\")\n",
    "print(df)"
   ]
  },
  {
   "cell_type": "code",
   "execution_count": 44,
   "metadata": {},
   "outputs": [
    {
     "name": "stdout",
     "output_type": "stream",
     "text": [
      "\n",
      "添加重复行后：\n",
      "      Name  Age         City  Salary\n",
      "0    Alice   26     New York   50000\n",
      "1      Bob   30  Los Angeles   60000\n",
      "2  Charlie   35      Chicago   70000\n",
      "3    David   40      Houston   80000\n",
      "4      Eve   45      Phoenix   90000\n",
      "5    Alice   26     New York   50000\n",
      "\n",
      "删除重复行后：\n",
      "      Name  Age         City  Salary\n",
      "0    Alice   26     New York   50000\n",
      "1      Bob   30  Los Angeles   60000\n",
      "2  Charlie   35      Chicago   70000\n",
      "3    David   40      Houston   80000\n",
      "4      Eve   45      Phoenix   90000\n"
     ]
    }
   ],
   "source": [
    "# 添加重复行\n",
    "df = pd.concat([df, df.iloc[[0]]], ignore_index=True)\n",
    "print(\"\\n添加重复行后：\")\n",
    "print(df)\n",
    "\n",
    "# 删除重复行\n",
    "df = df.drop_duplicates()\n",
    "print(\"\\n删除重复行后：\")\n",
    "print(df)"
   ]
  },
  {
   "cell_type": "code",
   "execution_count": 45,
   "metadata": {},
   "outputs": [
    {
     "name": "stdout",
     "output_type": "stream",
     "text": [
      "\n",
      "添加缺失值后：\n",
      "      Name  Age         City   Salary\n",
      "0    Alice   26     New York  50000.0\n",
      "1      Bob   30  Los Angeles  60000.0\n",
      "2  Charlie   35      Chicago      NaN\n",
      "3    David   40      Houston  80000.0\n",
      "4      Eve   45      Phoenix  90000.0\n",
      "\n",
      "填充缺失值后：\n",
      "      Name  Age         City   Salary\n",
      "0    Alice   26     New York  50000.0\n",
      "1      Bob   30  Los Angeles  60000.0\n",
      "2  Charlie   35      Chicago  70000.0\n",
      "3    David   40      Houston  80000.0\n",
      "4      Eve   45      Phoenix  90000.0\n",
      "\n",
      "删除缺失值后：\n",
      "      Name  Age         City   Salary\n",
      "0    Alice   26     New York  50000.0\n",
      "1      Bob   30  Los Angeles  60000.0\n",
      "2  Charlie   35      Chicago  70000.0\n",
      "3    David   40      Houston  80000.0\n",
      "4      Eve   45      Phoenix  90000.0\n"
     ]
    }
   ],
   "source": [
    "# 添加缺失值\n",
    "df.loc[2, 'Salary'] = None\n",
    "print(\"\\n添加缺失值后：\")\n",
    "print(df)\n",
    "\n",
    "# 填充缺失值\n",
    "df['Salary'] = df['Salary'].fillna(df['Salary'].mean())\n",
    "print(\"\\n填充缺失值后：\")\n",
    "print(df)\n",
    "\n",
    "# 删除缺失值\n",
    "df = df.dropna()\n",
    "print(\"\\n删除缺失值后：\")\n",
    "print(df)"
   ]
  },
  {
   "cell_type": "code",
   "execution_count": 46,
   "metadata": {},
   "outputs": [
    {
     "name": "stdout",
     "output_type": "stream",
     "text": [
      "\n",
      "按 'Age' 降序排序：\n",
      "      Name  Age         City   Salary\n",
      "4      Eve   45      Phoenix  90000.0\n",
      "3    David   40      Houston  80000.0\n",
      "2  Charlie   35      Chicago  70000.0\n",
      "1      Bob   30  Los Angeles  60000.0\n",
      "0    Alice   26     New York  50000.0\n"
     ]
    }
   ],
   "source": [
    "# 按某列排序\n",
    "df = df.sort_values(by='Age', ascending=False)\n",
    "print(\"\\n按 'Age' 降序排序：\")\n",
    "print(df)"
   ]
  },
  {
   "cell_type": "code",
   "execution_count": 47,
   "metadata": {},
   "outputs": [
    {
     "name": "stdout",
     "output_type": "stream",
     "text": [
      "\n",
      "按 'City' 分组并计算平均工资：\n",
      "City\n",
      "Chicago        70000.0\n",
      "Houston        80000.0\n",
      "Los Angeles    60000.0\n",
      "New York       50000.0\n",
      "Phoenix        90000.0\n",
      "Name: Salary, dtype: float64\n"
     ]
    }
   ],
   "source": [
    "# 按某列分组并计算平均值\n",
    "grouped = df.groupby('City')['Salary'].mean()\n",
    "print(\"\\n按 'City' 分组并计算平均工资：\")\n",
    "print(grouped)"
   ]
  },
  {
   "cell_type": "code",
   "execution_count": 48,
   "metadata": {},
   "outputs": [
    {
     "name": "stdout",
     "output_type": "stream",
     "text": [
      "\n",
      "横向合并：\n",
      "    Name  Age     Name  Age\n",
      "0  Alice   25  Charlie   35\n",
      "1    Bob   30    David   40\n",
      "\n",
      "纵向合并：\n",
      "      Name  Age\n",
      "0    Alice   25\n",
      "1      Bob   30\n",
      "0  Charlie   35\n",
      "1    David   40\n"
     ]
    }
   ],
   "source": [
    "# 创建两个 DataFrame\n",
    "df1 = pd.DataFrame({'Name': ['Alice', 'Bob'], 'Age': [25, 30]})\n",
    "df2 = pd.DataFrame({'Name': ['Charlie', 'David'], 'Age': [35, 40]})\n",
    "\n",
    "# 横向合并（列合并）\n",
    "df_merged = pd.concat([df1, df2], axis=1)\n",
    "print(\"\\n横向合并：\")\n",
    "print(df_merged)\n",
    "\n",
    "# 纵向合并（行合并）\n",
    "df_merged = pd.concat([df1, df2], axis=0)\n",
    "print(\"\\n纵向合并：\")\n",
    "print(df_merged)"
   ]
  },
  {
   "cell_type": "code",
   "execution_count": 49,
   "metadata": {},
   "outputs": [
    {
     "name": "stdout",
     "output_type": "stream",
     "text": [
      "\n",
      "修改后的 DataFrame 已保存为 employees_modified.csv\n"
     ]
    }
   ],
   "source": [
    "# 保存修改后的 DataFrame\n",
    "df.to_csv('employees_modified.csv', index=False)\n",
    "print(\"\\n修改后的 DataFrame 已保存为 employees_modified.csv\")"
   ]
  }
 ],
 "metadata": {
  "kernelspec": {
   "display_name": "Python 3",
   "language": "python",
   "name": "python3"
  },
  "language_info": {
   "codemirror_mode": {
    "name": "ipython",
    "version": 3
   },
   "file_extension": ".py",
   "mimetype": "text/x-python",
   "name": "python",
   "nbconvert_exporter": "python",
   "pygments_lexer": "ipython3",
   "version": "3.11.0b5"
  }
 },
 "nbformat": 4,
 "nbformat_minor": 2
}
