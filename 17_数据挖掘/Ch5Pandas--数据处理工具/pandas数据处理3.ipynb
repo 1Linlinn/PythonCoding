{
 "cells": [
  {
   "cell_type": "code",
   "execution_count": 1,
   "metadata": {},
   "outputs": [
    {
     "name": "stdout",
     "output_type": "stream",
     "text": [
      "学生考试成绩已保存为 exam_scores.csv\n"
     ]
    }
   ],
   "source": [
    "import pandas as pd\n",
    "\n",
    "# 创建一个学生考试成绩的 DataFrame\n",
    "data = {\n",
    "    'Student': ['Alice', 'Bob', 'Charlie', 'David', 'Eve'],\n",
    "    'Subject': ['Math', 'Science', 'Math', 'Science', 'Math'],\n",
    "    'Score': [85, 90, 78, 88, 92]\n",
    "}\n",
    "\n",
    "# 创建 DataFrame\n",
    "df = pd.DataFrame(data)\n",
    "\n",
    "# 保存为 CSV 文件\n",
    "df.to_csv('exam_scores.csv', index=False)\n",
    "\n",
    "print(\"学生考试成绩已保存为 exam_scores.csv\")"
   ]
  },
  {
   "cell_type": "code",
   "execution_count": 2,
   "metadata": {},
   "outputs": [
    {
     "name": "stdout",
     "output_type": "stream",
     "text": [
      "读取的学生考试成绩：\n",
      "   Student  Subject  Score\n",
      "0    Alice     Math     85\n",
      "1      Bob  Science     90\n",
      "2  Charlie     Math     78\n",
      "3    David  Science     88\n",
      "4      Eve     Math     92\n"
     ]
    }
   ],
   "source": [
    "# 读取 CSV 文件\n",
    "df = pd.read_csv('exam_scores.csv')\n",
    "\n",
    "print(\"读取的学生考试成绩：\")\n",
    "print(df)"
   ]
  },
  {
   "cell_type": "code",
   "execution_count": 3,
   "metadata": {},
   "outputs": [
    {
     "name": "stdout",
     "output_type": "stream",
     "text": [
      "\n",
      "将 'Student' 列设置为索引：\n",
      "         Subject  Score\n",
      "Student                \n",
      "Alice       Math     85\n",
      "Bob      Science     90\n",
      "Charlie     Math     78\n",
      "David    Science     88\n",
      "Eve         Math     92\n"
     ]
    }
   ],
   "source": [
    "# 将 'Student' 列设置为索引\n",
    "df.set_index('Student', inplace=True)\n",
    "\n",
    "print(\"\\n将 'Student' 列设置为索引：\")\n",
    "print(df)"
   ]
  },
  {
   "cell_type": "code",
   "execution_count": 4,
   "metadata": {},
   "outputs": [
    {
     "name": "stdout",
     "output_type": "stream",
     "text": [
      "\n",
      "重置索引：\n",
      "   Student  Subject  Score\n",
      "0    Alice     Math     85\n",
      "1      Bob  Science     90\n",
      "2  Charlie     Math     78\n",
      "3    David  Science     88\n",
      "4      Eve     Math     92\n"
     ]
    }
   ],
   "source": [
    "# 重置索引\n",
    "df.reset_index(inplace=True)\n",
    "\n",
    "print(\"\\n重置索引：\")\n",
    "print(df)"
   ]
  },
  {
   "cell_type": "code",
   "execution_count": 5,
   "metadata": {},
   "outputs": [
    {
     "name": "stdout",
     "output_type": "stream",
     "text": [
      "\n",
      "查看索引：\n",
      "RangeIndex(start=0, stop=5, step=1)\n"
     ]
    }
   ],
   "source": [
    "# 查看索引\n",
    "print(\"\\n查看索引：\")\n",
    "print(df.index)"
   ]
  },
  {
   "cell_type": "code",
   "execution_count": 6,
   "metadata": {},
   "outputs": [
    {
     "name": "stdout",
     "output_type": "stream",
     "text": [
      "\n",
      "按索引选择第 2 行的数据：\n",
      "Student    Charlie\n",
      "Subject       Math\n",
      "Score           78\n",
      "Name: 2, dtype: object\n",
      "\n",
      "按索引标签选择 'Charlie' 的数据：\n",
      "Subject    Math\n",
      "Score        78\n",
      "Name: Charlie, dtype: object\n"
     ]
    }
   ],
   "source": [
    "# 按索引选择数据\n",
    "print(\"\\n按索引选择第 2 行的数据：\")\n",
    "print(df.iloc[2])\n",
    "\n",
    "# 按索引标签选择数据\n",
    "df.set_index('Student', inplace=True)\n",
    "print(\"\\n按索引标签选择 'Charlie' 的数据：\")\n",
    "print(df.loc['Charlie'])"
   ]
  },
  {
   "cell_type": "code",
   "execution_count": 8,
   "metadata": {},
   "outputs": [
    {
     "name": "stdout",
     "output_type": "stream",
     "text": [
      "\n",
      "创建多级索引：\n",
      "                 Score\n",
      "Student Subject       \n",
      "Alice   Math        85\n",
      "Bob     Science     90\n",
      "Charlie Math        78\n",
      "David   Science     88\n",
      "Eve     Math        92\n"
     ]
    }
   ],
   "source": [
    "# 重置索引以确保 'Student' 列存在\n",
    "df.reset_index(inplace=True)\n",
    "\n",
    "# 创建多级索引\n",
    "df_multi = df.set_index(['Student', 'Subject'])\n",
    "\n",
    "print(\"\\n创建多级索引：\")\n",
    "print(df_multi)"
   ]
  },
  {
   "cell_type": "code",
   "execution_count": 9,
   "metadata": {},
   "outputs": [
    {
     "name": "stdout",
     "output_type": "stream",
     "text": [
      "\n",
      "访问 'Alice' 的 'Math' 成绩：\n",
      "Score    85\n",
      "Name: (Alice, Math), dtype: int64\n"
     ]
    }
   ],
   "source": [
    "# 通过多级索引访问数据\n",
    "print(\"\\n访问 'Alice' 的 'Math' 成绩：\")\n",
    "print(df_multi.loc[('Alice', 'Math')])"
   ]
  },
  {
   "cell_type": "code",
   "execution_count": 10,
   "metadata": {},
   "outputs": [
    {
     "name": "stdout",
     "output_type": "stream",
     "text": [
      "\n",
      "按索引排序：\n",
      "   Student  Subject  Score\n",
      "0    Alice     Math     85\n",
      "1      Bob  Science     90\n",
      "2  Charlie     Math     78\n",
      "3    David  Science     88\n",
      "4      Eve     Math     92\n"
     ]
    }
   ],
   "source": [
    "# 按索引排序\n",
    "df_sorted = df.sort_index()\n",
    "\n",
    "print(\"\\n按索引排序：\")\n",
    "print(df_sorted)"
   ]
  },
  {
   "cell_type": "code",
   "execution_count": 12,
   "metadata": {},
   "outputs": [
    {
     "name": "stdout",
     "output_type": "stream",
     "text": [
      "\n",
      "筛选 'Bob' 和 'Charlie' 的数据：\n",
      "         Subject  Score\n",
      "Student                \n",
      "Bob      Science     90\n",
      "Charlie     Math     78\n"
     ]
    }
   ],
   "source": [
    "# 设置 'Student' 列为索引\n",
    "df.set_index('Student', inplace=True)\n",
    "\n",
    "# 按索引筛选\n",
    "print(\"\\n筛选 'Bob' 和 'Charlie' 的数据：\")\n",
    "print(df.loc[['Bob', 'Charlie']])\n",
    "\n",
    "# 重置索引以恢复原始 DataFrame\n",
    "df.reset_index(inplace=True)"
   ]
  },
  {
   "cell_type": "code",
   "execution_count": 13,
   "metadata": {},
   "outputs": [
    {
     "name": "stdout",
     "output_type": "stream",
     "text": [
      "\n",
      "拆分索引：\n",
      "   Student  Subject  Score\n",
      "0    Alice     Math     85\n",
      "1      Bob  Science     90\n",
      "2  Charlie     Math     78\n",
      "3    David  Science     88\n",
      "4      Eve     Math     92\n"
     ]
    }
   ],
   "source": [
    "# 拆分索引\n",
    "df.set_index('Student', inplace=True)\n",
    "df_split = df.reset_index()\n",
    "\n",
    "print(\"\\n拆分索引：\")\n",
    "print(df_split)"
   ]
  },
  {
   "cell_type": "code",
   "execution_count": 14,
   "metadata": {},
   "outputs": [
    {
     "name": "stdout",
     "output_type": "stream",
     "text": [
      "\n",
      "修改后的学生考试成绩已保存为 exam_scores_modified.csv\n"
     ]
    }
   ],
   "source": [
    "# 保存修改后的 DataFrame\n",
    "df.to_csv('exam_scores_modified.csv', index=False)\n",
    "\n",
    "print(\"\\n修改后的学生考试成绩已保存为 exam_scores_modified.csv\")"
   ]
  }
 ],
 "metadata": {
  "kernelspec": {
   "display_name": "Python 3",
   "language": "python",
   "name": "python3"
  },
  "language_info": {
   "codemirror_mode": {
    "name": "ipython",
    "version": 3
   },
   "file_extension": ".py",
   "mimetype": "text/x-python",
   "name": "python",
   "nbconvert_exporter": "python",
   "pygments_lexer": "ipython3",
   "version": "3.11.0b5"
  }
 },
 "nbformat": 4,
 "nbformat_minor": 2
}
