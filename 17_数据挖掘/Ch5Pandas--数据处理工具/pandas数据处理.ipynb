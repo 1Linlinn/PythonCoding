{
 "cells": [
  {
   "cell_type": "code",
   "execution_count": 50,
   "metadata": {},
   "outputs": [
    {
     "name": "stdout",
     "output_type": "stream",
     "text": [
      "员工信息已保存为 employees.csv\n"
     ]
    }
   ],
   "source": [
    "import pandas as pd\n",
    "\n",
    "# 创建员工信息的 DataFrame\n",
    "employee_data = {\n",
    "    'EmployeeID': [1, 2, 3, 4, 5],\n",
    "    'Name': ['Alice', 'Bob', 'Charlie', 'David', 'Eve'],\n",
    "    'Age': [25, 30, 35, 40, 45],\n",
    "    'DepartmentID': [101, 102, 101, 103, 102]\n",
    "}\n",
    "\n",
    "# 创建 DataFrame\n",
    "df_employees = pd.DataFrame(employee_data)\n",
    "\n",
    "# 保存为 CSV 文件\n",
    "df_employees.to_csv('employees.csv', index=False)\n",
    "\n",
    "print(\"员工信息已保存为 employees.csv\")"
   ]
  },
  {
   "cell_type": "code",
   "execution_count": 51,
   "metadata": {},
   "outputs": [
    {
     "name": "stdout",
     "output_type": "stream",
     "text": [
      "部门信息已保存为 departments.csv\n"
     ]
    }
   ],
   "source": [
    "# 创建部门信息的 DataFrame\n",
    "department_data = {\n",
    "    'DepartmentID': [101, 102, 103],\n",
    "    'DepartmentName': ['HR', 'Engineering', 'Marketing'],\n",
    "    'Location': ['New York', 'San Francisco', 'Chicago']\n",
    "}\n",
    "\n",
    "# 创建 DataFrame\n",
    "df_departments = pd.DataFrame(department_data)\n",
    "\n",
    "# 保存为 CSV 文件\n",
    "df_departments.to_csv('departments.csv', index=False)\n",
    "\n",
    "print(\"部门信息已保存为 departments.csv\")"
   ]
  },
  {
   "cell_type": "code",
   "execution_count": 52,
   "metadata": {},
   "outputs": [
    {
     "name": "stdout",
     "output_type": "stream",
     "text": [
      "读取的员工信息：\n",
      "   EmployeeID     Name  Age  DepartmentID\n",
      "0           1    Alice   25           101\n",
      "1           2      Bob   30           102\n",
      "2           3  Charlie   35           101\n",
      "3           4    David   40           103\n",
      "4           5      Eve   45           102\n"
     ]
    }
   ],
   "source": [
    "# 读取员工信息 CSV 文件\n",
    "df_employees = pd.read_csv('employees.csv')\n",
    "\n",
    "print(\"读取的员工信息：\")\n",
    "print(df_employees)"
   ]
  },
  {
   "cell_type": "code",
   "execution_count": 53,
   "metadata": {},
   "outputs": [
    {
     "name": "stdout",
     "output_type": "stream",
     "text": [
      "读取的部门信息：\n",
      "   DepartmentID DepartmentName       Location\n",
      "0           101             HR       New York\n",
      "1           102    Engineering  San Francisco\n",
      "2           103      Marketing        Chicago\n"
     ]
    }
   ],
   "source": [
    "# 读取部门信息 CSV 文件\n",
    "df_departments = pd.read_csv('departments.csv')\n",
    "\n",
    "print(\"读取的部门信息：\")\n",
    "print(df_departments)"
   ]
  },
  {
   "cell_type": "code",
   "execution_count": 54,
   "metadata": {},
   "outputs": [
    {
     "name": "stdout",
     "output_type": "stream",
     "text": [
      "\n",
      "合并后的数据：\n",
      "   EmployeeID     Name  Age  DepartmentID DepartmentName       Location\n",
      "0           1    Alice   25           101             HR       New York\n",
      "1           2      Bob   30           102    Engineering  San Francisco\n",
      "2           3  Charlie   35           101             HR       New York\n",
      "3           4    David   40           103      Marketing        Chicago\n",
      "4           5      Eve   45           102    Engineering  San Francisco\n"
     ]
    }
   ],
   "source": [
    "# 按 'DepartmentID' 合并两个 DataFrame\n",
    "df_merged = pd.merge(df_employees, df_departments, on='DepartmentID', how='left')\n",
    "\n",
    "print(\"\\n合并后的数据：\")\n",
    "print(df_merged)"
   ]
  },
  {
   "cell_type": "code",
   "execution_count": 55,
   "metadata": {},
   "outputs": [
    {
     "name": "stdout",
     "output_type": "stream",
     "text": [
      "\n",
      "内连接合并结果：\n",
      "   EmployeeID     Name  Age  DepartmentID DepartmentName       Location\n",
      "0           1    Alice   25           101             HR       New York\n",
      "1           2      Bob   30           102    Engineering  San Francisco\n",
      "2           3  Charlie   35           101             HR       New York\n",
      "3           4    David   40           103      Marketing        Chicago\n",
      "4           5      Eve   45           102    Engineering  San Francisco\n",
      "\n",
      "外连接合并结果：\n",
      "   EmployeeID     Name  Age  DepartmentID DepartmentName       Location\n",
      "0           1    Alice   25           101             HR       New York\n",
      "1           3  Charlie   35           101             HR       New York\n",
      "2           2      Bob   30           102    Engineering  San Francisco\n",
      "3           5      Eve   45           102    Engineering  San Francisco\n",
      "4           4    David   40           103      Marketing        Chicago\n",
      "\n",
      "右连接合并结果：\n",
      "   EmployeeID     Name  Age  DepartmentID DepartmentName       Location\n",
      "0           1    Alice   25           101             HR       New York\n",
      "1           3  Charlie   35           101             HR       New York\n",
      "2           2      Bob   30           102    Engineering  San Francisco\n",
      "3           5      Eve   45           102    Engineering  San Francisco\n",
      "4           4    David   40           103      Marketing        Chicago\n"
     ]
    }
   ],
   "source": [
    "# 内连接（Inner Join）\n",
    "df_inner = pd.merge(df_employees, df_departments, on='DepartmentID', how='inner')\n",
    "print(\"\\n内连接合并结果：\")\n",
    "print(df_inner)\n",
    "\n",
    "# 外连接（Outer Join）\n",
    "df_outer = pd.merge(df_employees, df_departments, on='DepartmentID', how='outer')\n",
    "print(\"\\n外连接合并结果：\")\n",
    "print(df_outer)\n",
    "\n",
    "# 右连接（Right Join）\n",
    "df_right = pd.merge(df_employees, df_departments, on='DepartmentID', how='right')\n",
    "print(\"\\n右连接合并结果：\")\n",
    "print(df_right)"
   ]
  },
  {
   "cell_type": "code",
   "execution_count": 56,
   "metadata": {},
   "outputs": [
    {
     "name": "stdout",
     "output_type": "stream",
     "text": [
      "\n",
      "将 'DepartmentName' 转换为分类数据：\n",
      "<class 'pandas.core.frame.DataFrame'>\n",
      "RangeIndex: 5 entries, 0 to 4\n",
      "Data columns (total 6 columns):\n",
      " #   Column          Non-Null Count  Dtype   \n",
      "---  ------          --------------  -----   \n",
      " 0   EmployeeID      5 non-null      int64   \n",
      " 1   Name            5 non-null      object  \n",
      " 2   Age             5 non-null      int64   \n",
      " 3   DepartmentID    5 non-null      int64   \n",
      " 4   DepartmentName  5 non-null      category\n",
      " 5   Location        5 non-null      object  \n",
      "dtypes: category(1), int64(3), object(2)\n",
      "memory usage: 465.0+ bytes\n",
      "None\n"
     ]
    }
   ],
   "source": [
    "# 将 'DepartmentName' 列转换为分类数据\n",
    "df_merged['DepartmentName'] = df_merged['DepartmentName'].astype('category')\n",
    "\n",
    "print(\"\\n将 'DepartmentName' 转换为分类数据：\")\n",
    "print(df_merged.info())"
   ]
  },
  {
   "cell_type": "code",
   "execution_count": 57,
   "metadata": {},
   "outputs": [
    {
     "name": "stdout",
     "output_type": "stream",
     "text": [
      "\n",
      "分类数据的类别：\n",
      "Index(['Engineering', 'HR', 'Marketing'], dtype='object')\n"
     ]
    }
   ],
   "source": [
    "# 查看分类数据的类别\n",
    "print(\"\\n分类数据的类别：\")\n",
    "print(df_merged['DepartmentName'].cat.categories)"
   ]
  },
  {
   "cell_type": "code",
   "execution_count": 58,
   "metadata": {},
   "outputs": [
    {
     "name": "stdout",
     "output_type": "stream",
     "text": [
      "\n",
      "按部门分组并计算平均年龄：\n",
      "DepartmentName\n",
      "Engineering    37.5\n",
      "HR             30.0\n",
      "Marketing      40.0\n",
      "Name: Age, dtype: float64\n"
     ]
    },
    {
     "name": "stderr",
     "output_type": "stream",
     "text": [
      "C:\\Users\\林肖阳\\AppData\\Local\\Temp\\ipykernel_30324\\4024176610.py:2: FutureWarning: The default of observed=False is deprecated and will be changed to True in a future version of pandas. Pass observed=False to retain current behavior or observed=True to adopt the future default and silence this warning.\n",
      "  grouped = df_merged.groupby('DepartmentName')['Age'].mean()\n"
     ]
    }
   ],
   "source": [
    "# 按 'DepartmentName' 分组并计算每个部门的平均年龄\n",
    "grouped = df_merged.groupby('DepartmentName')['Age'].mean()\n",
    "\n",
    "print(\"\\n按部门分组并计算平均年龄：\")\n",
    "print(grouped)"
   ]
  },
  {
   "cell_type": "code",
   "execution_count": 59,
   "metadata": {},
   "outputs": [
    {
     "name": "stdout",
     "output_type": "stream",
     "text": [
      "\n",
      "按部门分组并计算员工数量：\n",
      "DepartmentName\n",
      "Engineering    2\n",
      "HR             2\n",
      "Marketing      1\n",
      "dtype: int64\n"
     ]
    },
    {
     "name": "stderr",
     "output_type": "stream",
     "text": [
      "C:\\Users\\林肖阳\\AppData\\Local\\Temp\\ipykernel_30324\\1114777633.py:2: FutureWarning: The default of observed=False is deprecated and will be changed to True in a future version of pandas. Pass observed=False to retain current behavior or observed=True to adopt the future default and silence this warning.\n",
      "  grouped_count = df_merged.groupby('DepartmentName').size()\n"
     ]
    }
   ],
   "source": [
    "# 按 'DepartmentName' 分组并计算每个部门的员工数量\n",
    "grouped_count = df_merged.groupby('DepartmentName').size()\n",
    "\n",
    "print(\"\\n按部门分组并计算员工数量：\")\n",
    "print(grouped_count)"
   ]
  },
  {
   "cell_type": "code",
   "execution_count": 60,
   "metadata": {},
   "outputs": [
    {
     "name": "stdout",
     "output_type": "stream",
     "text": [
      "\n",
      "年龄大于 30 的员工：\n",
      "   EmployeeID     Name  Age  DepartmentID DepartmentName       Location\n",
      "2           3  Charlie   35           101             HR       New York\n",
      "3           4    David   40           103      Marketing        Chicago\n",
      "4           5      Eve   45           102    Engineering  San Francisco\n"
     ]
    }
   ],
   "source": [
    "# 筛选年龄大于 30 的员工\n",
    "filtered_df = df_merged[df_merged['Age'] > 30]\n",
    "\n",
    "print(\"\\n年龄大于 30 的员工：\")\n",
    "print(filtered_df)"
   ]
  },
  {
   "cell_type": "code",
   "execution_count": 61,
   "metadata": {},
   "outputs": [
    {
     "name": "stdout",
     "output_type": "stream",
     "text": [
      "\n",
      "添加标签后的数据：\n",
      "   EmployeeID     Name  Age  DepartmentID DepartmentName       Location  \\\n",
      "0           1    Alice   25           101             HR       New York   \n",
      "1           2      Bob   30           102    Engineering  San Francisco   \n",
      "2           3  Charlie   35           101             HR       New York   \n",
      "3           4    David   40           103      Marketing        Chicago   \n",
      "4           5      Eve   45           102    Engineering  San Francisco   \n",
      "\n",
      "   AgeGroup  \n",
      "0  Under 30  \n",
      "1  Under 30  \n",
      "2   Over 30  \n",
      "3   Over 30  \n",
      "4   Over 30  \n"
     ]
    }
   ],
   "source": [
    "# 应用条件，为年龄大于 30 的员工添加标签\n",
    "df_merged['AgeGroup'] = df_merged['Age'].apply(lambda x: 'Over 30' if x > 30 else 'Under 30')\n",
    "\n",
    "print(\"\\n添加标签后的数据：\")\n",
    "print(df_merged)"
   ]
  },
  {
   "cell_type": "code",
   "execution_count": 62,
   "metadata": {},
   "outputs": [
    {
     "data": {
      "image/png": "[encoded data removed]",
      "text/plain": [
       "<Figure size 640x480 with 1 Axes>"
      ]
     },
     "metadata": {},
     "output_type": "display_data"
    }
   ],
   "source": [
    "import matplotlib.pyplot as plt\n",
    "\n",
    "# 绘制每个部门的员工数量柱状图\n",
    "grouped_count.plot(kind='bar', title='Number of Employees by Department')\n",
    "plt.xlabel('Department')\n",
    "plt.ylabel('Number of Employees')\n",
    "plt.show()"
   ]
  },
  {
   "cell_type": "code",
   "execution_count": 63,
   "metadata": {},
   "outputs": [
    {
     "name": "stdout",
     "output_type": "stream",
     "text": [
      "\n",
      "修改后的数据已保存为 merged_data.csv\n"
     ]
    }
   ],
   "source": [
    "# 保存修改后的 DataFrame\n",
    "df_merged.to_csv('merged_data.csv', index=False)\n",
    "\n",
    "print(\"\\n修改后的数据已保存为 merged_data.csv\")"
   ]
  }
 ],
 "metadata": {
  "language_info": {
   "name": "python"
  }
 },
 "nbformat": 4,
 "nbformat_minor": 2
}
