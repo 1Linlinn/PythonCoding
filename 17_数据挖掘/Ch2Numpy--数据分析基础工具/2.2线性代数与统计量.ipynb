{
 "cells": [
  {
   "cell_type": "markdown",
   "metadata": {},
   "source": [
    "# $$线性代数与统计量$$"
   ]
  },
  {
   "cell_type": "markdown",
   "metadata": {},
   "source": [
    "# 线性代数"
   ]
  },
  {
   "cell_type": "code",
   "execution_count": null,
   "metadata": {},
   "outputs": [
    {
     "name": "stdout",
     "output_type": "stream",
     "text": [
      "矩阵 A:\n",
      " [[1 2 3]\n",
      " [4 5 6]]\n",
      "矩阵 B:\n",
      " [[ 7  8]\n",
      " [ 9 10]\n",
      " [11 12]]\n"
     ]
    }
   ],
   "source": [
    "import numpy as np  \n",
    "\n",
    "# 创建2x3的矩阵  \n",
    "A = np.array([[1, 2, 3],  \n",
    "              [4, 5, 6]])  \n",
    "\n",
    "# 创建3x2的矩阵  \n",
    "B = np.array([[7, 8],  \n",
    "              [9, 10],  \n",
    "              [11, 12]])  \n",
    "\n",
    "print(\"矩阵 A:\\n\", A)  \n",
    "print(\"矩阵 B:\\n\", B)\n"
   ]
  },
  {
   "cell_type": "markdown",
   "metadata": {},
   "source": [
    "## 矩阵运算"
   ]
  },
  {
   "cell_type": "code",
   "execution_count": 3,
   "metadata": {},
   "outputs": [
    {
     "name": "stdout",
     "output_type": "stream",
     "text": [
      "矩阵 A + 矩阵 C:\n",
      " [[2 3 4]\n",
      " [5 6 7]]\n",
      "矩阵 A 和 B 的乘积：\n",
      " [[ 58  64]\n",
      " [139 154]]\n",
      "矩阵 A 的转置：\n",
      " [[1 4]\n",
      " [2 5]\n",
      " [3 6]]\n"
     ]
    }
   ],
   "source": [
    "# 创建两个相同形状的矩阵  \n",
    "C = np.array([[1, 1, 1],  \n",
    "              [1, 1, 1]])  \n",
    "\n",
    "# 矩阵加法  \n",
    "D = A + C  \n",
    "print(\"矩阵 A + 矩阵 C:\\n\", D)\n",
    "\n",
    "# 矩阵乘法 (A 和 B 的乘积)  \n",
    "product = np.dot(A, B)  # 或者使用 A @ B  \n",
    "print(\"矩阵 A 和 B 的乘积：\\n\", product)\n",
    "\n",
    "# 矩阵转置  \n",
    "A_transpose = A.T  \n",
    "print(\"矩阵 A 的转置：\\n\", A_transpose)\n"
   ]
  },
  {
   "cell_type": "markdown",
   "metadata": {},
   "source": [
    "## 行列式"
   ]
  },
  {
   "cell_type": "code",
   "execution_count": 5,
   "metadata": {},
   "outputs": [
    {
     "name": "stdout",
     "output_type": "stream",
     "text": [
      "方阵的行列式: -2.0000000000000004\n",
      "方阵的逆矩阵：\n",
      " [[-2.   1. ]\n",
      " [ 1.5 -0.5]]\n",
      "线性方程组的解： [2. 3.]\n",
      "特征值: [-0.37228132  5.37228132]\n",
      "特征向量：\n",
      " [[-0.82456484 -0.41597356]\n",
      " [ 0.56576746 -0.90937671]]\n",
      "U矩阵：\n",
      " [[-0.3863177  -0.92236578]\n",
      " [-0.92236578  0.3863177 ]]\n",
      "奇异值： [9.508032   0.77286964]\n",
      "Vt矩阵：\n",
      " [[-0.42866713 -0.56630692 -0.7039467 ]\n",
      " [ 0.80596391  0.11238241 -0.58119908]\n",
      " [ 0.40824829 -0.81649658  0.40824829]]\n"
     ]
    }
   ],
   "source": [
    "# 创建一个方阵  \n",
    "square_matrix = np.array([[1, 2],  \n",
    "                          [3, 4]])  \n",
    "\n",
    "det = np.linalg.det(square_matrix)  \n",
    "print(\"方阵的行列式:\", det)\n",
    "\n",
    "# 计算逆矩阵  \n",
    "inv_matrix = np.linalg.inv(square_matrix)  \n",
    "print(\"方阵的逆矩阵：\\n\", inv_matrix)\n",
    "\n",
    "# 设定方程组 Ax = b  \n",
    "A_eq = np.array([[3, 1],   \n",
    "                 [1, 2]])  \n",
    "b_eq = np.array([9, 8])  \n",
    "\n",
    "# 求解方程  \n",
    "solution = np.linalg.solve(A_eq, b_eq)  \n",
    "print(\"线性方程组的解：\", solution)\n",
    "\n",
    "# 计算特征值和特征向量  \n",
    "eigenvalues, eigenvectors = np.linalg.eig(square_matrix)  \n",
    "print(\"特征值:\", eigenvalues)  \n",
    "print(\"特征向量：\\n\", eigenvectors)\n",
    "\n",
    "# 奇异值分解  \n",
    "U, S, Vt = np.linalg.svd(A)  \n",
    "print(\"U矩阵：\\n\", U)  \n",
    "print(\"奇异值：\", S)  \n",
    "print(\"Vt矩阵：\\n\", Vt)\n",
    "\n"
   ]
  },
  {
   "cell_type": "markdown",
   "metadata": {},
   "source": [
    "# 统计量"
   ]
  },
  {
   "cell_type": "markdown",
   "metadata": {},
   "source": [
    "## 一维数组"
   ]
  },
  {
   "cell_type": "code",
   "execution_count": 6,
   "metadata": {},
   "outputs": [
    {
     "name": "stdout",
     "output_type": "stream",
     "text": [
      "一维数组平均值: 30.0\n",
      "一维数组中位数: 30.0\n",
      "一维数组标准差: 14.142135623730951\n",
      "一维数组方差: 200.0\n",
      "一维数组最大值: 50 最小值: 10\n",
      "一维数组第一四分位数: 20.0 第三四分位数: 40.0\n"
     ]
    }
   ],
   "source": [
    "import numpy as np  \n",
    "\n",
    "# 创建一维数组  \n",
    "data_1d = np.array([10, 20, 30, 40, 50])  \n",
    "\n",
    "# 计算平均值  \n",
    "mean_1d = np.mean(data_1d)  \n",
    "print(\"一维数组平均值:\", mean_1d)  \n",
    "\n",
    "# 计算中位数  \n",
    "median_1d = np.median(data_1d)  \n",
    "print(\"一维数组中位数:\", median_1d)  \n",
    "\n",
    "# 计算标准差  \n",
    "std_1d = np.std(data_1d)  \n",
    "print(\"一维数组标准差:\", std_1d)  \n",
    "\n",
    "# 计算方差  \n",
    "var_1d = np.var(data_1d)  \n",
    "print(\"一维数组方差:\", var_1d)  \n",
    "\n",
    "# 计算最大值和最小值  \n",
    "max_1d = np.max(data_1d)  \n",
    "min_1d = np.min(data_1d)  \n",
    "print(\"一维数组最大值:\", max_1d, \"最小值:\", min_1d)  \n",
    "\n",
    "# 计算四分位数  \n",
    "q1_1d = np.percentile(data_1d, 25)  \n",
    "q3_1d = np.percentile(data_1d, 75)  \n",
    "print(\"一维数组第一四分位数:\", q1_1d, \"第三四分位数:\", q3_1d)"
   ]
  },
  {
   "cell_type": "markdown",
   "metadata": {},
   "source": [
    "## 多维数组"
   ]
  },
  {
   "cell_type": "code",
   "execution_count": 7,
   "metadata": {},
   "outputs": [
    {
     "name": "stdout",
     "output_type": "stream",
     "text": [
      "二维数组按列的平均值: [40. 50. 60.]\n",
      "二维数组按行的中位数: [20. 50. 80.]\n",
      "二维数组按列的标准差: [24.49489743 24.49489743 24.49489743]\n",
      "二维数组按行的方差: [66.66666667 66.66666667 66.66666667]\n",
      "二维数组每列的最大值: [70 80 90]\n",
      "二维数组每行的最小值: [10 40 70]\n",
      "二维数组按列的第一四分位数: [25. 35. 45.] 第三四分位数: [55. 65. 75.]\n",
      "协方差矩阵：\n",
      " [[4.5 4.5 4.5]\n",
      " [4.5 4.5 4.5]\n",
      " [4.5 4.5 4.5]]\n",
      "相关系数矩阵：\n",
      " [[1. 1.]\n",
      " [1. 1.]]\n"
     ]
    }
   ],
   "source": [
    "# 创建二维数组（矩阵）  \n",
    "data_2d = np.array([[10, 20, 30],  \n",
    "                    [40, 50, 60],  \n",
    "                    [70, 80, 90]])  \n",
    "\n",
    "# 计算按列的平均值  \n",
    "mean_2d_col = np.mean(data_2d, axis=0)  # 按列计算  \n",
    "print(\"二维数组按列的平均值:\", mean_2d_col)  \n",
    "\n",
    "# 计算按行的中位数  \n",
    "median_2d_row = np.median(data_2d, axis=1)  # 按行计算  \n",
    "print(\"二维数组按行的中位数:\", median_2d_row)  \n",
    "\n",
    "# 计算按列的标准差  \n",
    "std_2d_col = np.std(data_2d, axis=0)  \n",
    "print(\"二维数组按列的标准差:\", std_2d_col)  \n",
    "\n",
    "# 计算按行的方差  \n",
    "var_2d_row = np.var(data_2d, axis=1)  \n",
    "print(\"二维数组按行的方差:\", var_2d_row)  \n",
    "\n",
    "# 计算最大值和最小值（按列和按行）  \n",
    "max_2d_col = np.max(data_2d, axis=0)  # 每列的最大值  \n",
    "min_2d_row = np.min(data_2d, axis=1)  # 每行的最小值  \n",
    "print(\"二维数组每列的最大值:\", max_2d_col)  \n",
    "print(\"二维数组每行的最小值:\", min_2d_row)  \n",
    "\n",
    "# 计算四分位数（按列计算）  \n",
    "q1_2d_col = np.percentile(data_2d, 25, axis=0)  \n",
    "q3_2d_col = np.percentile(data_2d, 75, axis=0)  \n",
    "print(\"二维数组按列的第一四分位数:\", q1_2d_col, \"第三四分位数:\", q3_2d_col)\n",
    "\n",
    "# 创建一个二维数组  \n",
    "data_2d = np.array([[1, 2, 3],  \n",
    "                    [4, 5, 6]])  \n",
    "\n",
    "covariance_matrix = np.cov(data_2d, rowvar=False)  \n",
    "correlation_matrix = np.corrcoef(data_2d)  \n",
    "\n",
    "print(\"协方差矩阵：\\n\", covariance_matrix)  \n",
    "print(\"相关系数矩阵：\\n\", correlation_matrix) \n",
    "\n"
   ]
  },
  {
   "cell_type": "markdown",
   "metadata": {},
   "source": [
    "## 求和"
   ]
  },
  {
   "cell_type": "code",
   "execution_count": 8,
   "metadata": {},
   "outputs": [
    {
     "name": "stdout",
     "output_type": "stream",
     "text": [
      "一维数组求和: 15\n",
      "二维数组按行求和: [ 6 15 24]\n",
      "二维数组按列求和: [12 15 18]\n"
     ]
    }
   ],
   "source": [
    "import numpy as np  \n",
    "\n",
    "# 创建一维数组  \n",
    "data_1d = np.array([1, 2, 3, 4, 5])  \n",
    "sum_1d = np.sum(data_1d)  \n",
    "print(\"一维数组求和:\", sum_1d)  # 输出 15\n",
    "\n",
    "# 创建二维数组  \n",
    "data_2d = np.array([[1, 2, 3],  \n",
    "                    [4, 5, 6],  \n",
    "                    [7, 8, 9]])  \n",
    "\n",
    "# 按行求和  \n",
    "sum_rows = np.sum(data_2d, axis=1)  # 按行求和  \n",
    "print(\"二维数组按行求和:\", sum_rows)  # 输出 [  6  15  24]  \n",
    "\n",
    "# 按列求和  \n",
    "sum_columns = np.sum(data_2d, axis=0)  # 按列求和  \n",
    "print(\"二维数组按列求和:\", sum_columns)  # 输出 [12 15 18]\n",
    "\n"
   ]
  },
  {
   "cell_type": "markdown",
   "metadata": {},
   "source": [
    "## 皮尔逊相关系数\n"
   ]
  },
  {
   "cell_type": "markdown",
   "metadata": {},
   "source": [
    "1. 皮尔逊相关系数的值的范围在 -1 到 1 之间：\n",
    "\n",
    "- 1：表示完全正相关（两个变量一起增加）。\n",
    "- 0：表示没有线性相关关系（一个变量的变化与另一个变量无关）。\n",
    "- -1：表示完全负相关（一个变量增加时另一个变量减少）\n",
    "\n",
    "2. 评价标准：\n",
    "- 0.9 到 1.0 (或 -0.9 到 -1.0)：强正（或负）相关\n",
    "- 0.7 到 0.9 (或 -0.7 到 -0.9)：中等正（或负）相关\n",
    "- 0.3 到 0.7 (或 -0.3 到 -0.7)：弱正（或负）相关\n",
    "- 0 到 0.3 (或 0 到 -0.3)：无相关性"
   ]
  },
  {
   "cell_type": "code",
   "execution_count": 9,
   "metadata": {},
   "outputs": [
    {
     "name": "stdout",
     "output_type": "stream",
     "text": [
      "皮尔逊相关系数矩阵：\n",
      " [[1. 1. 1.]\n",
      " [1. 1. 1.]\n",
      " [1. 1. 1.]]\n"
     ]
    }
   ],
   "source": [
    "# 创建二维数组，假设每行是一个样本，每列是一个特征  \n",
    "data_2d = np.array([[1, 2, 3],  \n",
    "                    [4, 5, 6],  \n",
    "                    [7, 8, 9]])  \n",
    "\n",
    "# 计算皮尔逊相关系数矩阵  \n",
    "correlation_matrix = np.corrcoef(data_2d, rowvar=False)  \n",
    "print(\"皮尔逊相关系数矩阵：\\n\", correlation_matrix)"
   ]
  },
  {
   "cell_type": "code",
   "execution_count": 11,
   "metadata": {},
   "outputs": [
    {
     "name": "stdout",
     "output_type": "stream",
     "text": [
      "矩阵1:\n",
      " [[1 2 3]\n",
      " [4 5 6]\n",
      " [7 8 9]]\n",
      "矩阵2:\n",
      " [[9 8 7]\n",
      " [6 5 4]\n",
      " [3 2 1]]\n",
      "皮尔逊相关系数矩阵:\n",
      " [[ 1.  1.  1. -1. -1. -1.]\n",
      " [ 1.  1.  1. -1. -1. -1.]\n",
      " [ 1.  1.  1. -1. -1. -1.]\n",
      " [-1. -1. -1.  1.  1.  1.]\n",
      " [-1. -1. -1.  1.  1.  1.]\n",
      " [-1. -1. -1.  1.  1.  1.]]\n"
     ]
    }
   ],
   "source": [
    "import numpy as np  \n",
    "\n",
    "# 创建两个二维数组(矩阵)  \n",
    "data1 = np.array([[1, 2, 3],  \n",
    "                  [4, 5, 6],  \n",
    "                  [7, 8, 9]])  \n",
    "\n",
    "data2 = np.array([[9, 8, 7],  \n",
    "                  [6, 5, 4],  \n",
    "                  [3, 2, 1]])  \n",
    "\n",
    "# 计算两个矩阵的皮尔逊相关系数  \n",
    "print(\"矩阵1:\\n\",data1)\n",
    "print(\"矩阵2:\\n\",data2)\n",
    "correlation_matrix = np.corrcoef(data1, data2)\n",
    "print(\"皮尔逊相关系数矩阵:\\n\", correlation_matrix)"
   ]
  }
 ],
 "metadata": {
  "kernelspec": {
   "display_name": "Python 3",
   "language": "python",
   "name": "python3"
  },
  "language_info": {
   "codemirror_mode": {
    "name": "ipython",
    "version": 3
   },
   "file_extension": ".py",
   "mimetype": "text/x-python",
   "name": "python",
   "nbconvert_exporter": "python",
   "pygments_lexer": "ipython3",
   "version": "3.11.0"
  }
 },
 "nbformat": 4,
 "nbformat_minor": 2
}
