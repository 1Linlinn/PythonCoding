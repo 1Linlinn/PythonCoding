{
 "cells": [
  {
   "cell_type": "markdown",
   "metadata": {},
   "source": [
    " # $$Numpy基础$$"
   ]
  },
  {
   "cell_type": "markdown",
   "metadata": {},
   "source": [
    "## 2.1.1 ndarry对象\n",
    "Numpy提供的同质多维数组可以进行科学运算"
   ]
  },
  {
   "cell_type": "code",
   "execution_count": 8,
   "metadata": {},
   "outputs": [
    {
     "name": "stdout",
     "output_type": "stream",
     "text": [
      "a:\n",
      "[1 2 3]\n",
      "b:\n",
      "[[1 2]\n",
      " [3 4]]\n",
      "c:\n",
      "[[1 2 3 4 5]]\n",
      "d:\n",
      "[1.+0.j 2.+0.j 3.+0.j]\n"
     ]
    }
   ],
   "source": [
    "import numpy as np\n",
    "a = np.array([1, 2, 3])\n",
    "b = np.array([[1, 2],[3, 4]])\n",
    "c = np.array([1, 2, 3, 4, 5], ndmin = 2) # 规定最小维数\n",
    "d = np.array([1, 2, 3], dtype=complex)  # 规定数组元素的类型\n",
    "print(f\"a:\\n{a}\")\n",
    "print(f\"b:\\n{b}\")\n",
    "print(f\"c:\\n{c}\")\n",
    "print(f\"d:\\n{d}\")"
   ]
  },
  {
   "cell_type": "markdown",
   "metadata": {},
   "source": [
    "### ndarray对象的属性"
   ]
  },
  {
   "cell_type": "code",
   "execution_count": 15,
   "metadata": {},
   "outputs": [
    {
     "name": "stdout",
     "output_type": "stream",
     "text": [
      "a的转置:\n",
      "[1 2 3]\n",
      "b的转置:\n",
      "[[1 3]\n",
      " [2 4]]\n",
      "c的转置:\n",
      "[[1]\n",
      " [2]\n",
      " [3]\n",
      " [4]\n",
      " [5]]\n"
     ]
    }
   ],
   "source": [
    "# 转置\n",
    "print(f\"a的转置:\\n{a.T}\")\n",
    "print(f\"b的转置:\\n{b.T}\")\n",
    "print(f\"c的转置:\\n{c.T}\")"
   ]
  },
  {
   "cell_type": "code",
   "execution_count": 14,
   "metadata": {},
   "outputs": [
    {
     "name": "stdout",
     "output_type": "stream",
     "text": [
      "a中元素个数:\n",
      "3\n",
      "b中元素个数:\n",
      "4\n",
      "c中元素个数:\n",
      "5\n"
     ]
    }
   ],
   "source": [
    "# 数组中元素个数\n",
    "print(f\"a中元素个数:\\n{a.size}\")\n",
    "print(f\"b中元素个数:\\n{b.size}\")\n",
    "print(f\"c中元素个数:\\n{c.size}\")"
   ]
  },
  {
   "cell_type": "code",
   "execution_count": 16,
   "metadata": {},
   "outputs": [
    {
     "name": "stdout",
     "output_type": "stream",
     "text": [
      "a数组的维度:\n",
      "1\n",
      "b数组的维度:\n",
      "2\n",
      "c数组的维度:\n",
      "2\n"
     ]
    }
   ],
   "source": [
    "# 数组的维度\n",
    "print(f\"a数组的维度:\\n{a.ndim}\")\n",
    "print(f\"b数组的维度:\\n{b.ndim}\")\n",
    "print(f\"c数组的维度:\\n{c.ndim}\")"
   ]
  },
  {
   "cell_type": "code",
   "execution_count": 18,
   "metadata": {},
   "outputs": [
    {
     "name": "stdout",
     "output_type": "stream",
     "text": [
      "a数组的形状:\n",
      "(3,)\n",
      "b数组的形状:\n",
      "(2, 2)\n",
      "b数组的行数:\n",
      "2\n",
      "b数组的列数:\n",
      "2\n",
      "c数组的形状:\n",
      "(1, 5)\n"
     ]
    }
   ],
   "source": [
    "# 数组的形状\n",
    "print(f\"a数组的形状:\\n{a.shape}\")\n",
    "print(f\"b数组的形状:\\n{b.shape}\")\n",
    "print(f\"b数组的行数:\\n{b.shape[0]}\")\n",
    "print(f\"b数组的列数:\\n{b.shape[1]}\")\n",
    "print(f\"c数组的形状:\\n{c.shape}\")"
   ]
  },
  {
   "cell_type": "markdown",
   "metadata": {},
   "source": [
    "## 2.1.2 创建ndarry对象"
   ]
  },
  {
   "cell_type": "code",
   "execution_count": 21,
   "metadata": {},
   "outputs": [
    {
     "name": "stdout",
     "output_type": "stream",
     "text": [
      "[0. 0. 0. 0. 0.]\n",
      "[[0 0 0 0 0]\n",
      " [0 0 0 0 0]\n",
      " [0 0 0 0 0]\n",
      " [0 0 0 0 0]\n",
      " [0 0 0 0 0]]\n"
     ]
    }
   ],
   "source": [
    "# zeros\n",
    "import numpy as np\n",
    "x = np.zeros(5) # 默认浮点数\n",
    "y = np.zeros((5,5), dtype=int) # 指定形状和数据类型\n",
    "print(x)\n",
    "print(y)"
   ]
  },
  {
   "cell_type": "code",
   "execution_count": 22,
   "metadata": {},
   "outputs": [
    {
     "name": "stdout",
     "output_type": "stream",
     "text": [
      "[1. 1. 1. 1. 1.]\n",
      "[[1 1 1]\n",
      " [1 1 1]\n",
      " [1 1 1]]\n"
     ]
    }
   ],
   "source": [
    "# ones\n",
    "x = np.ones(5)\n",
    "y = np.ones([3, 3], dtype=int)\n",
    "print(x)\n",
    "print(y)"
   ]
  },
  {
   "cell_type": "code",
   "execution_count": 24,
   "metadata": {},
   "outputs": [
    {
     "name": "stdout",
     "output_type": "stream",
     "text": [
      "[[1 0 0]\n",
      " [0 1 0]\n",
      " [0 0 1]]\n",
      "\n",
      "[[1 0 0]\n",
      " [0 2 0]\n",
      " [0 0 3]]\n"
     ]
    }
   ],
   "source": [
    "# diag\n",
    "x = np.diag([1,1,1])\n",
    "y = np.diag([1,2,3])\n",
    "print(x)\n",
    "print()\n",
    "print(y)"
   ]
  },
  {
   "cell_type": "code",
   "execution_count": 25,
   "metadata": {},
   "outputs": [
    {
     "name": "stdout",
     "output_type": "stream",
     "text": [
      "[0 1 2 3 4 5 6 7 8 9]\n",
      "[1 2 3 4 5 6 7 8 9]\n",
      "[1 3 5 7 9]\n"
     ]
    }
   ],
   "source": [
    "# arange(start, stop, step)创建给定间隔内返回均匀间隔值的数组\n",
    "# start:默认为0;stop:参数决定;step:默认为1,必须给出start.\n",
    "a = np.arange(10)\n",
    "b = np.arange(1, 10)\n",
    "c = np.arange(1, 10, 2)\n",
    "print(a)\n",
    "print(b)\n",
    "print(c)"
   ]
  },
  {
   "cell_type": "code",
   "execution_count": 29,
   "metadata": {},
   "outputs": [
    {
     "name": "stdout",
     "output_type": "stream",
     "text": [
      "[1.]\n",
      "[ 1. 10.]\n",
      "[ 1.  4.  7. 10.]\n"
     ]
    }
   ],
   "source": [
    "# linspace() 生成等差数列\n",
    "a = np.linspace(1,10,1) # 指定的是数量个数\n",
    "b = np.linspace(1,10,2)\n",
    "c = np.linspace(1,10,4)\n",
    "print(a)\n",
    "print(b)\n",
    "print(c)"
   ]
  },
  {
   "cell_type": "code",
   "execution_count": 31,
   "metadata": {},
   "outputs": [
    {
     "name": "stdout",
     "output_type": "stream",
     "text": [
      "[  1.           3.16227766  10.          31.6227766  100.        ]\n",
      "[1. 2. 4.]\n"
     ]
    }
   ],
   "source": [
    "# logspace() 生成等比数列\n",
    "# numpy.logspace(start, stop, num=50, endpoint=True, base=10.0, dtype=None)\n",
    "# 生成10的0次方到10的2次方的数列，共5个数\n",
    "a = np.logspace(0,2,5)\n",
    "print(a)\n",
    "# 生成10的0次方到2的2次方的数列，共3个数\n",
    "b = np.logspace(0,2,3,base=2)\n",
    "print(b)\n"
   ]
  },
  {
   "cell_type": "markdown",
   "metadata": {},
   "source": [
    "## 2.1.3 数组变换"
   ]
  },
  {
   "cell_type": "markdown",
   "metadata": {},
   "source": [
    "### 维度变换\n"
   ]
  },
  {
   "cell_type": "code",
   "execution_count": 40,
   "metadata": {},
   "outputs": [
    {
     "name": "stdout",
     "output_type": "stream",
     "text": [
      "原始数组 a:\n",
      "[1 2 3 4 5 6]\n",
      "\n",
      "重塑后的数组 b:\n",
      "[[1 2 3]\n",
      " [4 5 6]]\n",
      "\n",
      "重塑后的数组 c:\n",
      "[[1 2 3]\n",
      " [4 5 6]]\n"
     ]
    }
   ],
   "source": [
    "# reshape()更改数组形状\n",
    "import numpy as np  \n",
    "# 创建一维数组  \n",
    "a = np.array([1, 2, 3, 4, 5, 6])  \n",
    "# 使用 reshape() 方法将一维数组重塑为一个形状为 (2, 3) 的二维数组  \n",
    "b = a.reshape(2, 3)  \n",
    "c = a.reshape(2, 3)  # 等价于 b  \n",
    "# 打印原始数组以及重塑后的数组  \n",
    "print(\"原始数组 a:\")  \n",
    "print(a)  \n",
    "print(\"\\n重塑后的数组 b:\")  \n",
    "print(b)  \n",
    "print(\"\\n重塑后的数组 c:\")  \n",
    "print(c)"
   ]
  },
  {
   "cell_type": "code",
   "execution_count": 41,
   "metadata": {},
   "outputs": [
    {
     "name": "stdout",
     "output_type": "stream",
     "text": [
      "Original array:\n",
      " [[1 2 3]\n",
      " [4 5 6]]\n",
      "After flatten(): [1 2 3 4 5 6]\n",
      "\n",
      "After ravel(): [1 2 3 4 5 6]\n",
      "\n",
      "After reshape(-1): [1 2 3 4 5 6]\n"
     ]
    }
   ],
   "source": [
    "# flatten() 对数组进行降维，返回一维数组，原数组不变\n",
    "# 创建一个 2x3 的二维数组  \n",
    "arr = np.array([[1, 2, 3],  \n",
    "                [4, 5, 6]])  \n",
    "# 使用 flatten()  \n",
    "flat_arr = arr.flatten()  \n",
    "print(\"Original array:\\n\", arr)  \n",
    "print(\"After flatten():\", flat_arr) \n",
    "print() \n",
    "# 使用 ravel()  \n",
    "raveled_arr = arr.ravel()  \n",
    "print(\"After ravel():\", raveled_arr)\n",
    "print()\n",
    "# 使用 reshape(-1)  \n",
    "reshaped_arr = arr.reshape(-1)  \n",
    "print(\"After reshape(-1):\", reshaped_arr)"
   ]
  },
  {
   "cell_type": "markdown",
   "metadata": {},
   "source": [
    "### 数组拼接"
   ]
  },
  {
   "cell_type": "code",
   "execution_count": 42,
   "metadata": {},
   "outputs": [
    {
     "name": "stdout",
     "output_type": "stream",
     "text": [
      "arr1结果:\n",
      " [[1 2]\n",
      " [3 4]]\n",
      "arr2结果:\n",
      " [[5 6]\n",
      " [7 8]]\n",
      "hstack结果:\n",
      " [[1 2 5 6]\n",
      " [3 4 7 8]]\n",
      "vstack结果:\n",
      " [[1 2]\n",
      " [3 4]\n",
      " [5 6]\n",
      " [7 8]]\n",
      "沿列拼接的结果:\n",
      " [[1 2 5 6]\n",
      " [3 4 7 8]]\n",
      "沿行拼接的结果:\n",
      " [[1 2]\n",
      " [3 4]\n",
      " [5 6]\n",
      " [7 8]]\n"
     ]
    }
   ],
   "source": [
    "import numpy as np  \n",
    "\n",
    "# 创建两个二维数组  \n",
    "arr1 = np.array([[1, 2],  \n",
    "                 [3, 4]])  \n",
    "arr2 = np.array([[5, 6],  \n",
    "                 [7, 8]])  \n",
    "\n",
    "print(\"arr1结果:\\n\", arr1)\n",
    "print(\"arr2结果:\\n\", arr2)\n",
    "\n",
    "# 使用 hstack()  沿水平方向(列的方向)拼接数组\n",
    "hstacked = np.hstack((arr1, arr2))  \n",
    "print(\"hstack结果:\\n\", hstacked)\n",
    "\n",
    "# 使用 vstack()  沿垂直方向(行的方向)拼接数组\n",
    "vstacked = np.vstack((arr1, arr2))  \n",
    "print(\"vstack结果:\\n\", vstacked)\n",
    "\n",
    "# concatenate()沿指定轴拼接数组.需要指定轴的参数(axis),axis 指定拼接的轴(0 表示行,1 表示列).\n",
    "# 使用 concatenate() 沿列拼接(axis=1)  \n",
    "concatenated_h = np.concatenate((arr1, arr2), axis=1)  \n",
    "print(\"沿列拼接的结果:\\n\", concatenated_h)  \n",
    "\n",
    "# 使用 concatenate() 沿行拼接(axis=0)  \n",
    "concatenated_v = np.concatenate((arr1, arr2), axis=0)  \n",
    "print(\"沿行拼接的结果:\\n\", concatenated_v)"
   ]
  },
  {
   "cell_type": "markdown",
   "metadata": {},
   "source": [
    "### 数组分割"
   ]
  },
  {
   "cell_type": "code",
   "execution_count": null,
   "metadata": {},
   "outputs": [
    {
     "name": "stdout",
     "output_type": "stream",
     "text": [
      "hsplit结果:\n",
      "部分 1:\n",
      " [[1 2]\n",
      " [7 8]]\n",
      "部分 2:\n",
      " [[ 3  4]\n",
      " [ 9 10]]\n",
      "部分 3:\n",
      " [[ 5  6]\n",
      " [11 12]]\n",
      "vsplit结果:\n",
      "部分 1:\n",
      " [[1 2 3 4 5 6]]\n",
      "部分 2:\n",
      " [[ 7  8  9 10 11 12]]\n",
      "沿列分割的结果:\n",
      "部分 1:\n",
      " [[1 2]\n",
      " [7 8]]\n",
      "部分 2:\n",
      " [[ 3  4]\n",
      " [ 9 10]]\n",
      "部分 3:\n",
      " [[ 5  6]\n",
      " [11 12]]\n",
      "沿行分割的结果:\n",
      "部分 1:\n",
      " [[1 2 3 4 5 6]]\n",
      "部分 2:\n",
      " [[ 7  8  9 10 11 12]]\n"
     ]
    }
   ],
   "source": [
    "import numpy as np  \n",
    "\n",
    "# 创建一个 2x6 的二维数组  \n",
    "arr = np.array([[1, 2, 3, 4, 5, 6],  \n",
    "                [7, 8, 9, 10, 11, 12]])  \n",
    "\n",
    "# 使用 hsplit() 将数组分成 3 份  \n",
    "hsplit_result = np.hsplit(arr, 3)  \n",
    "print(\"hsplit结果:\")  \n",
    "for i, part in enumerate(hsplit_result):  \n",
    "    print(f\"部分 {i + 1}:\\n\", part)\n",
    "\n",
    "# 使用 vsplit() 将数组分成 2 份  \n",
    "vsplit_result = np.vsplit(arr, 2)  \n",
    "print(\"vsplit结果:\")  \n",
    "for i, part in enumerate(vsplit_result):  \n",
    "    print(f\"部分 {i + 1}:\\n\", part)\n",
    "\n",
    "# 使用 split() 沿列( axis=1 )分割数组  \n",
    "split_result_horizontal = np.split(arr, 3, axis=1)  \n",
    "print(\"沿列分割的结果:\")  \n",
    "for i, part in enumerate(split_result_horizontal):  \n",
    "    print(f\"部分 {i + 1}:\\n\", part)  \n",
    "\n",
    "# 使用 split() 沿行( axis=0 )分割数组  \n",
    "split_result_vertical = np.split(arr, 2, axis=0)  \n",
    "print(\"沿行分割的结果:\")  \n",
    "for i, part in enumerate(split_result_vertical):  \n",
    "    print(f\"部分 {i + 1}:\\n\", part)"
   ]
  },
  {
   "cell_type": "markdown",
   "metadata": {},
   "source": [
    "### 数组复制"
   ]
  },
  {
   "cell_type": "code",
   "execution_count": 46,
   "metadata": {},
   "outputs": [
    {
     "name": "stdout",
     "output_type": "stream",
     "text": [
      "原数组 arr1: [10  2  3  4  5]\n",
      "复制的数组 arr_copy: [1 2 3 4 5]\n",
      "\n",
      "原数组 arr1: [10  2  3  4  5]\n",
      "复制的数组 arr_copy: [10  2  3  4  5]\n"
     ]
    }
   ],
   "source": [
    "import numpy as np  \n",
    "# 创建一个数组  \n",
    "arr1 = np.array([1, 2, 3, 4, 5])  \n",
    "# 使用 copy() 进行数组复制,不改变原数组 \n",
    "arr_copy_1 = arr1.copy()  \n",
    "# 修改原数组  \n",
    "arr1[0] = 10  \n",
    "print(\"原数组 arr1:\", arr1)  \n",
    "print(\"复制的数组 arr_copy:\", arr_copy_1)\n",
    "print()\n",
    "# 使用 [:]进行数组复制,改变原数组 \n",
    "arr_copy_2 = arr1[:]  \n",
    "# 修改原数组  \n",
    "arr1[0] = 10  \n",
    "print(\"原数组 arr1:\", arr1)  \n",
    "print(\"复制的数组 arr_copy:\", arr_copy_2)"
   ]
  },
  {
   "cell_type": "markdown",
   "metadata": {},
   "source": [
    "### 数组索引"
   ]
  },
  {
   "cell_type": "markdown",
   "metadata": {},
   "source": [
    "#### 一维数组索引"
   ]
  },
  {
   "cell_type": "code",
   "execution_count": 47,
   "metadata": {},
   "outputs": [
    {
     "name": "stdout",
     "output_type": "stream",
     "text": [
      "索引 0: 10\n",
      "索引 2: 30\n",
      "切片 [1:4]: [20 30 40]\n",
      "切片 [:3]: [10 20 30]\n",
      "切片 [2:]: [30 40 50]\n",
      "切片 [::2]: [10 30 50]\n"
     ]
    }
   ],
   "source": [
    "import numpy as np  \n",
    "\n",
    "# 创建一维数组  \n",
    "arr1d = np.array([10, 20, 30, 40, 50])  \n",
    "\n",
    "# 基本索引  \n",
    "print(\"索引 0:\", arr1d[0])  # 第一个元素  \n",
    "print(\"索引 2:\", arr1d[2])  # 第三元素  \n",
    "\n",
    "# 切片  \n",
    "print(\"切片 [1:4]:\", arr1d[1:4])  # 从索引 1 到 3（不包括 4）  \n",
    "print(\"切片 [:3]:\", arr1d[:3])      # 取前三个元素  \n",
    "print(\"切片 [2:]:\", arr1d[2:])      # 从索引 2 到结尾  \n",
    "print(\"切片 [::2]:\", arr1d[::2])    # 每隔一个取一个元素"
   ]
  },
  {
   "cell_type": "markdown",
   "metadata": {},
   "source": [
    "#### 二维数组的索引和切片"
   ]
  },
  {
   "cell_type": "code",
   "execution_count": 48,
   "metadata": {},
   "outputs": [
    {
     "name": "stdout",
     "output_type": "stream",
     "text": [
      "索引 (1, 1): 5\n",
      "索引 (2, 0): 7\n",
      "行切片 [0:2]:\n",
      " [[1 2 3]\n",
      " [4 5 6]]\n",
      "行切片 [:2]:\n",
      " [[1 2 3]\n",
      " [4 5 6]]\n",
      "行切片 [::2]:\n",
      " [[1 2 3]\n",
      " [7 8 9]]\n",
      "列切片 [:, 1]: [2 5 8]\n",
      "部分切片 [1:, 0:2]:\n",
      " [[4 5]\n",
      " [7 8]]\n"
     ]
    }
   ],
   "source": [
    "# 创建二维数组  \n",
    "arr2d = np.array([[1, 2, 3],  \n",
    "                  [4, 5, 6],  \n",
    "                  [7, 8, 9]])  \n",
    "\n",
    "# 基本索引  \n",
    "print(\"索引 (1, 1):\", arr2d[1, 1])  # 访问第二行第二列元素  \n",
    "print(\"索引 (2, 0):\", arr2d[2, 0])  # 访问第三行第一列元素  \n",
    "\n",
    "# 行切片  \n",
    "print(\"行切片 [0:2]:\\n\", arr2d[0:2])      # 取前两行  \n",
    "print(\"行切片 [:2]:\\n\", arr2d[:2])         # 取前两行  \n",
    "print(\"行切片 [::2]:\\n\", arr2d[::2])       # 每隔一行取一行  \n",
    "\n",
    "# 列切片  \n",
    "print(\"列切片 [:, 1]:\", arr2d[:, 1])     # 取第二列  \n",
    "print(\"部分切片 [1:, 0:2]:\\n\", arr2d[1:, 0:2])  # 取第二行及以后，前两列"
   ]
  },
  {
   "cell_type": "markdown",
   "metadata": {},
   "source": [
    "#### 布尔索引"
   ]
  },
  {
   "cell_type": "code",
   "execution_count": 49,
   "metadata": {},
   "outputs": [
    {
     "name": "stdout",
     "output_type": "stream",
     "text": [
      "满足条件的元素: [40 50]\n"
     ]
    }
   ],
   "source": [
    "# 创建一维数组  \n",
    "arr = np.array([10, 20, 30, 40, 50])  \n",
    "\n",
    "# 使用布尔索引  \n",
    "bool_idx = arr > 30  # 创建布尔索引，条件为大于 30  \n",
    "print(\"满足条件的元素:\", arr[bool_idx])  # 选择所有大于 30 的元素"
   ]
  },
  {
   "cell_type": "markdown",
   "metadata": {},
   "source": [
    "## 2.1.4 生成随机数"
   ]
  },
  {
   "cell_type": "markdown",
   "metadata": {},
   "source": [
    "### 生成均匀分布的随机数"
   ]
  },
  {
   "cell_type": "code",
   "execution_count": 55,
   "metadata": {},
   "outputs": [
    {
     "name": "stdout",
     "output_type": "stream",
     "text": [
      "单个均匀分布随机数: 0.9209140208518813\n",
      "均匀分布随机数组:\n",
      " [[0.02472827 0.67532689 0.52610444 0.99064024]\n",
      " [0.93466715 0.42275341 0.33204757 0.89922078]\n",
      " [0.23559347 0.84452078 0.67347522 0.03653894]]\n"
     ]
    }
   ],
   "source": [
    "import numpy as np  \n",
    "\n",
    "# 生成单个随机数  \n",
    "random_number = np.random.rand()  # 生成0到1之间的随机浮点数  \n",
    "print(\"单个均匀分布随机数:\", random_number)  \n",
    "\n",
    "# 生成一定形状的均匀分布随机数组  \n",
    "random_array = np.random.rand(3, 4)  # 生成3行4列的随机数组  \n",
    "print(\"均匀分布随机数组:\\n\", random_array)"
   ]
  },
  {
   "cell_type": "markdown",
   "metadata": {},
   "source": [
    "### 生成正态分布随机数"
   ]
  },
  {
   "cell_type": "code",
   "execution_count": 57,
   "metadata": {},
   "outputs": [
    {
     "name": "stdout",
     "output_type": "stream",
     "text": [
      "正态分布随机数组:\n",
      " [[-0.85170294  0.20555247 -1.07585454]\n",
      " [ 0.74060754 -0.12835789 -0.66039251]]\n",
      "指定均值和标准差的正态分布随机数组:\n",
      " [[7.82706431 8.21855246 7.97172893]\n",
      " [5.93812609 3.80074683 7.70520495]]\n"
     ]
    },
    {
     "data": {
      "text/plain": [
       "-1.7094139159254536"
      ]
     },
     "execution_count": 57,
     "metadata": {},
     "output_type": "execute_result"
    }
   ],
   "source": [
    "# 生成符合标准正态分布（均值0，标准差1）的随机数  \n",
    "normal_random = np.random.randn(2, 3)  # 生成2行3列的随机数组  \n",
    "print(\"正态分布随机数组:\\n\", normal_random)  \n",
    "\n",
    "# 生成指定均值和标准差的正态分布随机数  \n",
    "mean = 5  \n",
    "std_dev = 2  \n",
    "normal_custom = np.random.normal(mean, std_dev, (2, 3))  # 生成2行3列的随机数组  \n",
    "print(\"指定均值和标准差的正态分布随机数组:\\n\", normal_custom)\n",
    "np.random.randn()"
   ]
  },
  {
   "cell_type": "markdown",
   "metadata": {},
   "source": [
    "### 生成整数随机数\n"
   ]
  },
  {
   "cell_type": "code",
   "execution_count": 58,
   "metadata": {},
   "outputs": [
    {
     "name": "stdout",
     "output_type": "stream",
     "text": [
      "随机整数数组:\n",
      " [[9 9 2 7]\n",
      " [4 3 3 4]\n",
      " [8 8 3 7]]\n"
     ]
    }
   ],
   "source": [
    "# 生成从low到high之间的随机整数  \n",
    "random_int = np.random.randint(1, 10, size=(3, 4))  # 生成3行4列的随机整数  \n",
    "print(\"随机整数数组:\\n\", random_int)"
   ]
  },
  {
   "cell_type": "code",
   "execution_count": 64,
   "metadata": {},
   "outputs": [
    {
     "name": "stdout",
     "output_type": "stream",
     "text": [
      "随机整数数组: [8 5 4 8 8]\n"
     ]
    }
   ],
   "source": [
    "random_int_range = np.random.randint(1, 10, size=5)  # 生成5个在1到10之间的随机整数  \n",
    "print(\"随机整数数组:\", random_int_range)"
   ]
  },
  {
   "cell_type": "markdown",
   "metadata": {},
   "source": [
    "### 从离散分布中抽样"
   ]
  },
  {
   "cell_type": "code",
   "execution_count": 59,
   "metadata": {},
   "outputs": [
    {
     "name": "stdout",
     "output_type": "stream",
     "text": [
      "从离散分布中抽样结果:\n",
      " [[5 5 3 4]\n",
      " [3 3 3 4]\n",
      " [4 5 5 5]]\n"
     ]
    }
   ],
   "source": [
    "# 将事件及其对应的概率放入列表中  \n",
    "values = [1, 2, 3, 4, 5]  \n",
    "probabilities = [0.1, 0.2, 0.3, 0.2, 0.2]  # 概率和为1  \n",
    "\n",
    "# 从离散分布中抽样  \n",
    "discrete_sample = np.random.choice(values, size=(3, 4), p=probabilities)  # 生成3行4列的样本  \n",
    "print(\"从离散分布中抽样结果:\\n\", discrete_sample)"
   ]
  },
  {
   "cell_type": "markdown",
   "metadata": {},
   "source": [
    "### 生成随机排列"
   ]
  },
  {
   "cell_type": "code",
   "execution_count": 60,
   "metadata": {},
   "outputs": [
    {
     "name": "stdout",
     "output_type": "stream",
     "text": [
      "随机排列后的数组: [4 3 5 2 1]\n"
     ]
    }
   ],
   "source": [
    "# 创建一个数组并生成随机排列  \n",
    "original_array = np.array([1, 2, 3, 4, 5])  \n",
    "shuffled_array = np.random.permutation(original_array)  # 随机排列数组  \n",
    "print(\"随机排列后的数组:\", shuffled_array)"
   ]
  },
  {
   "cell_type": "markdown",
   "metadata": {},
   "source": [
    "### 生成布尔随机数"
   ]
  },
  {
   "cell_type": "code",
   "execution_count": 61,
   "metadata": {},
   "outputs": [
    {
     "name": "stdout",
     "output_type": "stream",
     "text": [
      "布尔随机数组:\n",
      " [[False  True False  True]\n",
      " [False False False  True]\n",
      " [ True False False False]]\n"
     ]
    }
   ],
   "source": [
    "# 生成布尔随机数组  \n",
    "random_bool = np.random.choice([True, False], size=(3, 4))  # 生成3行4列的布尔数组  \n",
    "print(\"布尔随机数组:\\n\", random_bool)"
   ]
  },
  {
   "cell_type": "markdown",
   "metadata": {},
   "source": [
    "### 设定随机种子"
   ]
  },
  {
   "cell_type": "code",
   "execution_count": 63,
   "metadata": {},
   "outputs": [
    {
     "name": "stdout",
     "output_type": "stream",
     "text": [
      "设定随机种子的随机数:\n",
      " [[0.37454012 0.95071431 0.73199394]\n",
      " [0.59865848 0.15601864 0.15599452]]\n"
     ]
    },
    {
     "data": {
      "text/plain": [
       "0.05808361216819946"
      ]
     },
     "execution_count": 63,
     "metadata": {},
     "output_type": "execute_result"
    }
   ],
   "source": [
    "# 设定随机种子  \n",
    "np.random.seed(42)  \n",
    "\n",
    "# 生成随机数  \n",
    "seeded_random = np.random.rand(2, 3)  \n",
    "print(\"设定随机种子的随机数:\\n\", seeded_random)\n",
    "np.random.rand() "
   ]
  }
 ],
 "metadata": {
  "kernelspec": {
   "display_name": "Python 3",
   "language": "python",
   "name": "python3"
  },
  "language_info": {
   "codemirror_mode": {
    "name": "ipython",
    "version": 3
   },
   "file_extension": ".py",
   "mimetype": "text/x-python",
   "name": "python",
   "nbconvert_exporter": "python",
   "pygments_lexer": "ipython3",
   "version": "3.11.0"
  }
 },
 "nbformat": 4,
 "nbformat_minor": 2
}
