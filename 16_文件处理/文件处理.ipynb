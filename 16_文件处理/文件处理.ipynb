{
 "cells": [
  {
   "cell_type": "markdown",
   "metadata": {},
   "source": [
    "## 文件处理"
   ]
  },
  {
   "cell_type": "markdown",
   "metadata": {},
   "source": [
    "### 创建文件"
   ]
  },
  {
   "cell_type": "code",
   "execution_count": 29,
   "metadata": {},
   "outputs": [
    {
     "name": "stdout",
     "output_type": "stream",
     "text": [
      "当前工作路径是: d:\\VS Code\\Python_Project\\python编程基础\\16_文件处理\n",
      "文件已创建并写入内容: d:\\VS Code\\Python_Project\\python编程基础\\16_文件处理\\hi.txt\n"
     ]
    }
   ],
   "source": [
    "import os\n",
    "\n",
    "# 获取当前工作路径\n",
    "current_path = os.getcwd()\n",
    "print(f\"当前工作路径是: {current_path}\")\n",
    "\n",
    "# 创建并写入 hi.txt 文件\n",
    "file_path = os.path.join(current_path, \"hi.txt\")\n",
    "with open(file_path, \"w\", encoding=\"utf-8\") as file:\n",
    "    file.write(\"你好，世界！\")\n",
    "\n",
    "print(f\"文件已创建并写入内容: {file_path}\")"
   ]
  },
  {
   "cell_type": "markdown",
   "metadata": {},
   "source": [
    "### 读文件"
   ]
  },
  {
   "cell_type": "code",
   "execution_count": 31,
   "metadata": {},
   "outputs": [],
   "source": [
    "f = open(r\"D:\\VS Code\\Python_Project\\python编程基础\\16_文件处理\\hi.txt\", \"r\", encoding = \"utf-8\")"
   ]
  },
  {
   "cell_type": "markdown",
   "metadata": {},
   "source": [
    "### 方式1：read()，一次返回整个文件内容"
   ]
  },
  {
   "cell_type": "code",
   "execution_count": 18,
   "metadata": {},
   "outputs": [],
   "source": [
    "content = f.read()"
   ]
  },
  {
   "cell_type": "markdown",
   "metadata": {},
   "source": [
    "#### 输出文件内容"
   ]
  },
  {
   "cell_type": "code",
   "execution_count": 21,
   "metadata": {},
   "outputs": [
    {
     "name": "stdout",
     "output_type": "stream",
     "text": [
      "1111\n",
      "222\n",
      "333\n"
     ]
    }
   ],
   "source": [
    "print(content)"
   ]
  },
  {
   "cell_type": "markdown",
   "metadata": {},
   "source": [
    "#### 输出有限个字符"
   ]
  },
  {
   "cell_type": "code",
   "execution_count": 25,
   "metadata": {},
   "outputs": [
    {
     "data": {
      "text/plain": [
       "''"
      ]
     },
     "execution_count": 25,
     "metadata": {},
     "output_type": "execute_result"
    }
   ],
   "source": [
    "f.read(7)"
   ]
  },
  {
   "cell_type": "markdown",
   "metadata": {},
   "source": [
    "#### 关闭文件，释放内存"
   ]
  },
  {
   "cell_type": "code",
   "execution_count": 16,
   "metadata": {},
   "outputs": [],
   "source": [
    "f.close()"
   ]
  },
  {
   "cell_type": "markdown",
   "metadata": {},
   "source": [
    "### 读取方式2:f.readline(),字符串末尾保留换行符\\n"
   ]
  },
  {
   "cell_type": "code",
   "execution_count": null,
   "metadata": {},
   "outputs": [
    {
     "name": "stdout",
     "output_type": "stream",
     "text": [
      "第一行数据是：1111\n",
      "\n",
      "第二行数据是：222\n",
      "\n"
     ]
    }
   ],
   "source": [
    "line1 = f.readline()\n",
    "line2 = f.readline()\n",
    "print(f\"第一行数据是：{line1}\")\n",
    "print(f\"第二行数据是：{line2}\")\n",
    "f.close()"
   ]
  },
  {
   "cell_type": "markdown",
   "metadata": {},
   "source": [
    "#### 循环读取整个文件，一行一行的读取\n"
   ]
  },
  {
   "cell_type": "code",
   "execution_count": null,
   "metadata": {},
   "outputs": [],
   "source": [
    "while True:\n",
    "    line_content = f.readline()\n",
    "    if line_content == \"\":\n",
    "        break\n",
    "    print(line_content, end='')\n",
    "\n",
    "f.close()"
   ]
  },
  {
   "cell_type": "markdown",
   "metadata": {},
   "source": [
    "### 读取方式3：f.readlines()列表形式读取文件中的所有行"
   ]
  },
  {
   "cell_type": "code",
   "execution_count": 34,
   "metadata": {},
   "outputs": [
    {
     "name": "stdout",
     "output_type": "stream",
     "text": [
      "lines的数据类型是:<class 'list'>\n",
      "lines内容是:['你好，世界！']\n"
     ]
    }
   ],
   "source": [
    "with open(file_path, \"r\", encoding=\"utf-8\") as f:\n",
    "    lines = f.readlines()\n",
    "    print(f\"lines的数据类型是:{type(lines)}\")\n",
    "    print(f\"lines内容是:{lines}\")"
   ]
  },
  {
   "cell_type": "markdown",
   "metadata": {},
   "source": [
    "### 方式4"
   ]
  },
  {
   "cell_type": "code",
   "execution_count": 36,
   "metadata": {},
   "outputs": [
    {
     "name": "stdout",
     "output_type": "stream",
     "text": [
      "你好，世界！"
     ]
    }
   ],
   "source": [
    "with open(file_path, \"r\", encoding=\"utf-8\") as f:\n",
    "    lines = f.readlines()\n",
    "    for line in lines:\n",
    "        print(line, end = \"\")\n",
    "        "
   ]
  },
  {
   "cell_type": "markdown",
   "metadata": {},
   "source": [
    "## 写文件和删除文件"
   ]
  },
  {
   "cell_type": "markdown",
   "metadata": {},
   "source": [
    "在当前工作路径下创建一个新文件abc.txt,并写入十句“hello”\n",
    "将abc.txt文件覆盖成新的内容为十句“hello world”\n",
    "在abc.txt文件原有的基础上追加十句“你好python”\n",
    "判断在当前工作路径下是否有abc.txt文件,如果有则删除\n",
    "如果没有,则提示“文件不存在，无法删除”"
   ]
  },
  {
   "cell_type": "code",
   "execution_count": 37,
   "metadata": {},
   "outputs": [
    {
     "name": "stdout",
     "output_type": "stream",
     "text": [
      "当前工作路径是: d:\\VS Code\\Python_Project\\python编程基础\\16_文件处理\n",
      "文件已创建并写入内容: d:\\VS Code\\Python_Project\\python编程基础\\16_文件处理\\abc.txt\n"
     ]
    }
   ],
   "source": [
    "# 获取当前工作路径\n",
    "current_path = os.getcwd()\n",
    "print(f\"当前工作路径是: {current_path}\")\n",
    "\n",
    "# 创建并写入 abc.txt 文件，写入十句 \"hello\"\n",
    "file_path = os.path.join(current_path, \"abc.txt\")\n",
    "with open(file_path, \"w\", encoding=\"utf-8\") as file:\n",
    "    for _ in range(10):\n",
    "        file.write(\"hello\\n\")\n",
    "\n",
    "print(f\"文件已创建并写入内容: {file_path}\")"
   ]
  },
  {
   "cell_type": "code",
   "execution_count": 38,
   "metadata": {},
   "outputs": [
    {
     "name": "stdout",
     "output_type": "stream",
     "text": [
      "文件已覆盖并写入新内容: d:\\VS Code\\Python_Project\\python编程基础\\16_文件处理\\abc.txt\n"
     ]
    }
   ],
   "source": [
    "# 覆盖 abc.txt 文件，写入十句 \"hello world\"\n",
    "with open(file_path, \"w\", encoding=\"utf-8\") as file:\n",
    "    for _ in range(10):\n",
    "        file.write(\"hello world\\n\")\n",
    "\n",
    "print(f\"文件已覆盖并写入新内容: {file_path}\")"
   ]
  },
  {
   "cell_type": "code",
   "execution_count": 39,
   "metadata": {},
   "outputs": [
    {
     "name": "stdout",
     "output_type": "stream",
     "text": [
      "文件已追加新内容: d:\\VS Code\\Python_Project\\python编程基础\\16_文件处理\\abc.txt\n"
     ]
    }
   ],
   "source": [
    "# 在 abc.txt 文件原有的基础上追加十句 \"你好python\"\n",
    "with open(file_path, \"a\", encoding=\"utf-8\") as file:\n",
    "    for _ in range(10):\n",
    "        file.write(\"你好python\\n\")\n",
    "\n",
    "print(f\"文件已追加新内容: {file_path}\")"
   ]
  },
  {
   "cell_type": "code",
   "execution_count": 41,
   "metadata": {},
   "outputs": [
    {
     "name": "stdout",
     "output_type": "stream",
     "text": [
      "文件不存在，无法删除\n"
     ]
    }
   ],
   "source": [
    "# 判断在当前工作路径下是否有 abc.txt 文件，如果有则删除\n",
    "if os.path.exists(file_path):\n",
    "    os.remove(file_path)\n",
    "    print(f\"文件 {file_path} 已删除\")\n",
    "else:\n",
    "    print(\"文件不存在，无法删除\")"
   ]
  }
 ],
 "metadata": {
  "kernelspec": {
   "display_name": "myenv",
   "language": "python",
   "name": "python3"
  },
  "language_info": {
   "codemirror_mode": {
    "name": "ipython",
    "version": 3
   },
   "file_extension": ".py",
   "mimetype": "text/x-python",
   "name": "python",
   "nbconvert_exporter": "python",
   "pygments_lexer": "ipython3",
   "version": "3.10.9"
  }
 },
 "nbformat": 4,
 "nbformat_minor": 2
}
