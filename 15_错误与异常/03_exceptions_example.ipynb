{
 "cells": [
  {
   "cell_type": "markdown",
   "metadata": {},
   "source": [
    "\n",
    "## 内置异常"
   ]
  },
  {
   "cell_type": "markdown",
   "metadata": {},
   "source": [
    "### IndexError：序列抽取超出范围"
   ]
  },
  {
   "cell_type": "code",
   "execution_count": 3,
   "metadata": {},
   "outputs": [
    {
     "name": "stdout",
     "output_type": "stream",
     "text": [
      "捕获异常，异常是string index out of range\n"
     ]
    }
   ],
   "source": [
    "try:\n",
    "    str = \"hello, world\"\n",
    "    print(str[100])\n",
    "except Exception as e:\n",
    "    print(f'捕获异常，异常是{e}')"
   ]
  },
  {
   "cell_type": "markdown",
   "metadata": {},
   "source": [
    "### KeyError:现有键集合中找不到指定的映射（字典）"
   ]
  },
  {
   "cell_type": "code",
   "execution_count": 4,
   "metadata": {},
   "outputs": [
    {
     "name": "stdout",
     "output_type": "stream",
     "text": [
      "捕获异常，异常是'sex'\n"
     ]
    }
   ],
   "source": [
    "try:\n",
    "    dict_a = {\"name\": \"小米\", \"age\": 10}\n",
    "    print(dict_a[\"sex\"])\n",
    "except Exception as e:\n",
    "    print(f'捕获异常，异常是{e}')"
   ]
  },
  {
   "cell_type": "markdown",
   "metadata": {},
   "source": [
    "### NameError:使用未被定义的变量名"
   ]
  },
  {
   "cell_type": "code",
   "execution_count": 5,
   "metadata": {},
   "outputs": [
    {
     "name": "stdout",
     "output_type": "stream",
     "text": [
      "捕获异常，异常是name 'c' is not defined\n"
     ]
    }
   ],
   "source": [
    "try:\n",
    "    a = 10\n",
    "    b = 20\n",
    "    print(c)\n",
    "except Exception as e:\n",
    "    print(f'捕获异常，异常是{e}')"
   ]
  },
  {
   "cell_type": "markdown",
   "metadata": {},
   "source": [
    "### TypeError:当一个操作或函数用了类型不适当的对象"
   ]
  },
  {
   "cell_type": "code",
   "execution_count": 6,
   "metadata": {},
   "outputs": [
    {
     "name": "stdout",
     "output_type": "stream",
     "text": [
      "捕获异常，异常是can only concatenate str (not \"int\") to str\n"
     ]
    }
   ],
   "source": [
    "try:\n",
    "    a = 'aaa'\n",
    "    b = 10\n",
    "    print(a + b)\n",
    "except Exception as e:\n",
    "    print(f'捕获异常，异常是{e}')"
   ]
  },
  {
   "cell_type": "markdown",
   "metadata": {},
   "source": [
    "### ValueError:当一个操作或函数接收到正确类型但是值不合适的参数"
   ]
  },
  {
   "cell_type": "code",
   "execution_count": 7,
   "metadata": {},
   "outputs": [
    {
     "name": "stdout",
     "output_type": "stream",
     "text": [
      "捕获异常，异常是division by zero\n"
     ]
    }
   ],
   "source": [
    "try:\n",
    "    a = 1\n",
    "    b = 0\n",
    "    print(a / b)\n",
    "except Exception as e:\n",
    "    print(f'捕获异常，异常是{e}')"
   ]
  },
  {
   "cell_type": "markdown",
   "metadata": {},
   "source": [
    "### FileNotFoundError:请求的文件或者目录不存在"
   ]
  },
  {
   "cell_type": "code",
   "execution_count": 8,
   "metadata": {},
   "outputs": [
    {
     "name": "stdout",
     "output_type": "stream",
     "text": [
      "捕获异常，异常是[Errno 2] No such file or directory: 'd://ttt.txt'\n"
     ]
    }
   ],
   "source": [
    "try:\n",
    "    f = open(\"d://ttt.txt\")\n",
    "except Exception as e:\n",
    "    print(f'捕获异常，异常是{e}')"
   ]
  },
  {
   "cell_type": "markdown",
   "metadata": {},
   "source": [
    "## 异常快速处理"
   ]
  },
  {
   "cell_type": "code",
   "execution_count": 15,
   "metadata": {},
   "outputs": [
    {
     "name": "stdout",
     "output_type": "stream",
     "text": [
      "出现异常\n",
      "捕获异常，异常信息是division by zero, 类型为<class 'ZeroDivisionError'>\n",
      "这是无论是否错误都要执行的语句！\n",
      "程序继续执行\n"
     ]
    }
   ],
   "source": [
    "try:\n",
    "    num1 = 10\n",
    "    num2 = 0\n",
    "    res = num1 / num2\n",
    "except Exception as e:\n",
    "    print(\"出现异常\")\n",
    "    print(f'捕获异常，异常信息是{e}, 类型为{type(e)}')\n",
    "else:\n",
    "    print(\"成功输出运算结果\")\n",
    "finally:\n",
    "    print(\"这是无论是否错误都要执行的语句！\")\n",
    "print(\"程序继续执行\")"
   ]
  },
  {
   "cell_type": "markdown",
   "metadata": {},
   "source": [
    "#### 测试案例"
   ]
  },
  {
   "cell_type": "code",
   "execution_count": 2,
   "metadata": {},
   "outputs": [
    {
     "name": "stdout",
     "output_type": "stream",
     "text": [
      "你输入的age=10.\n"
     ]
    }
   ],
   "source": [
    "age = 0\n",
    "while True: # 无限循环\n",
    "    try:\n",
    "        age = int(input(\"请输入你的年龄：\"))\n",
    "        break\n",
    "    except:\n",
    "        print(\"你输入的年龄不是整数，请重新输入。\")\n",
    "\n",
    "print(f\"你输入的age={age}.\")"
   ]
  },
  {
   "cell_type": "markdown",
   "metadata": {},
   "source": [
    "### 主动触发异常"
   ]
  },
  {
   "cell_type": "code",
   "execution_count": 3,
   "metadata": {},
   "outputs": [
    {
     "name": "stdout",
     "output_type": "stream",
     "text": [
      "捕获异常，异常信息是: 除数不能为零\n"
     ]
    }
   ],
   "source": [
    "def divide(num1, num2):\n",
    "    if num2 == 0:\n",
    "        raise ValueError(\"除数不能为零\")\n",
    "    return num1 / num2\n",
    "\n",
    "try:\n",
    "    result = divide(10, 0)\n",
    "except ValueError as e:\n",
    "    print(f\"捕获异常，异常信息是: {e}\")\n",
    "\n",
    "# 输出: 捕获异常，异常信息是: 除数不能为零"
   ]
  },
  {
   "cell_type": "markdown",
   "metadata": {},
   "source": [
    "### 异常传递"
   ]
  },
  {
   "cell_type": "code",
   "execution_count": 4,
   "metadata": {},
   "outputs": [
    {
     "name": "stdout",
     "output_type": "stream",
     "text": [
      "在 func3 中捕获异常,异常信息是: 这是一个在 func1 中触发的异常\n"
     ]
    },
    {
     "data": {
      "text/plain": [
       "' \\n在这个示例中:\\nfunc1 函数主动触发一个 ValueError 异常.\\nfunc2 函数调用 func1,但没有处理异常.\\nfunc3 函数调用 func2,并在 try 块中捕获 ValueError 异常.\\n当 func3 调用 func2 时,func2 调用 func1,func1 触发异常.\\n由于 func2 没有处理异常,异常会继续向上传递到 func3.\\n在 func3 中,异常被捕获并处理,打印异常信息.\\n'"
      ]
     },
     "execution_count": 4,
     "metadata": {},
     "output_type": "execute_result"
    }
   ],
   "source": [
    "def func1():\n",
    "    raise ValueError(\"这是一个在 func1 中触发的异常\")\n",
    "\n",
    "def func2():\n",
    "    func1()\n",
    "\n",
    "def func3():\n",
    "    try:\n",
    "        func2()\n",
    "    except ValueError as e:\n",
    "        print(f\"在 func3 中捕获异常,异常信息是: {e}\")\n",
    "\n",
    "# 调用 func3,演示异常传递\n",
    "func3()\n",
    "\n",
    "# 输出: 在 func3 中捕获异常,异常信息是: 这是一个在 func1 中触发的异常\n",
    "''' \n",
    "在这个示例中:\n",
    "func1 函数主动触发一个 ValueError 异常.\n",
    "func2 函数调用 func1,但没有处理异常.\n",
    "func3 函数调用 func2,并在 try 块中捕获 ValueError 异常.\n",
    "当 func3 调用 func2 时,func2 调用 func1,func1 触发异常.\n",
    "由于 func2 没有处理异常,异常会继续向上传递到 func3.\n",
    "在 func3 中,异常被捕获并处理,打印异常信息.\n",
    "'''"
   ]
  },
  {
   "cell_type": "markdown",
   "metadata": {},
   "source": [
    "### 用户自定义异常"
   ]
  },
  {
   "cell_type": "markdown",
   "metadata": {},
   "source": [
    "在这个示例中：\n",
    "\n",
    "定义了一个自定义异常类 CustomError，继承自 Exception 类，并重写了 __init__ 和 __str__ 方法。\n",
    "func1 函数主动触发一个 CustomError 异常。\n",
    "func2 函数调用 func1，但没有处理异常。\n",
    "func3 函数调用 func2，并在 try 块中捕获 CustomError 异常。\n",
    "当 func3 调用 func2 时，func2 调用 func1，func1 触发自定义异常。由于 func2 没有处理异常，异常会继续向上传递到 func3。在 func3 中，异常被捕获并处理，打印异常信息。"
   ]
  },
  {
   "cell_type": "code",
   "execution_count": null,
   "metadata": {},
   "outputs": [],
   "source": [
    "# 定义一个自定义异常类\n",
    "class CustomError(Exception):\n",
    "    def __init__(self, message):\n",
    "        self.message = message\n",
    "\n",
    "    def __str__(self):\n",
    "        return self.message\n",
    "\n",
    "def func1():\n",
    "    raise CustomError(\"这是一个在 func1 中触发的自定义异常\")\n",
    "\n",
    "def func2():\n",
    "    func1()\n",
    "\n",
    "def func3():\n",
    "    try:\n",
    "        func2()\n",
    "    except CustomError as e:\n",
    "        print(f\"在 func3 中捕获自定义异常，异常信息是: {e}\")\n",
    "\n",
    "# 调用 func3，演示自定义异常的传递\n",
    "func3()\n",
    "\n",
    "# 输出: 在 func3 中捕获自定义异常，异常信息是: 这是一个在 func1 中触发的自定义异常"
   ]
  }
 ],
 "metadata": {
  "kernelspec": {
   "display_name": "myenv",
   "language": "python",
   "name": "python3"
  },
  "language_info": {
   "codemirror_mode": {
    "name": "ipython",
    "version": 3
   },
   "file_extension": ".py",
   "mimetype": "text/x-python",
   "name": "python",
   "nbconvert_exporter": "python",
   "pygments_lexer": "ipython3",
   "version": "3.10.9"
  }
 },
 "nbformat": 4,
 "nbformat_minor": 2
}
